{
 "cells": [
  {
   "cell_type": "markdown",
   "id": "f6344539",
   "metadata": {},
   "source": [
    "# 3.21: Lists in Python   \n",
    "Lists in Python:\n",
    "- Are ordered sequences that can hold a variety of object types.\n",
    "- Use brackets and commas to separate objects in the list.\n",
    "- Support indexing and slicing.  \n",
    "\n",
    "There are a variety of methods to use on lists, including:\n",
    "- The `append()` method to add items to the end of a list\n",
    "- The `pop()` method to remove items from a list\n",
    "- The `sort()` method to sort items alphabetically or numerically in a list.\n",
    "- The `reverse()` method to sort items alphabetically or numerically in reverse order in a list.\n",
    "\n",
    "Let's explore these features of lists."
   ]
  },
  {
   "cell_type": "markdown",
   "id": "828d1bbc",
   "metadata": {},
   "source": [
    "### Using Brackets and Commas to Separate List Items"
   ]
  },
  {
   "cell_type": "code",
   "execution_count": 4,
   "id": "67e916a2",
   "metadata": {},
   "outputs": [],
   "source": [
    "myList1= [1,2,3,4]"
   ]
  },
  {
   "cell_type": "code",
   "execution_count": 5,
   "id": "fa27c365",
   "metadata": {},
   "outputs": [
    {
     "data": {
      "text/plain": [
       "4"
      ]
     },
     "execution_count": 5,
     "metadata": {},
     "output_type": "execute_result"
    }
   ],
   "source": [
    " len(myList1)"
   ]
  },
  {
   "cell_type": "markdown",
   "id": "59e03a51",
   "metadata": {},
   "source": [
    "### Using Indexing to Return List Items"
   ]
  },
  {
   "cell_type": "code",
   "execution_count": 7,
   "id": "2b62c97e",
   "metadata": {},
   "outputs": [
    {
     "data": {
      "text/plain": [
       "3"
      ]
     },
     "execution_count": 7,
     "metadata": {},
     "output_type": "execute_result"
    }
   ],
   "source": [
    "myList1[2] #We can use indexing to return an item in a list."
   ]
  },
  {
   "cell_type": "markdown",
   "id": "cc3ac45c",
   "metadata": {},
   "source": [
    "### Using Slicing to Return a Section of a List"
   ]
  },
  {
   "cell_type": "code",
   "execution_count": 8,
   "id": "1844421d",
   "metadata": {},
   "outputs": [
    {
     "data": {
      "text/plain": [
       "[2, 3, 4]"
      ]
     },
     "execution_count": 8,
     "metadata": {},
     "output_type": "execute_result"
    }
   ],
   "source": [
    "myList1[1:] #We can use slicing to return a section of the list."
   ]
  },
  {
   "cell_type": "code",
   "execution_count": 9,
   "id": "3892bd98",
   "metadata": {},
   "outputs": [],
   "source": [
    "myList2 =[5, 6, 7, 8]"
   ]
  },
  {
   "cell_type": "code",
   "execution_count": 10,
   "id": "64b2e165",
   "metadata": {},
   "outputs": [
    {
     "data": {
      "text/plain": [
       "[1, 2, 3, 4, 5, 6, 7, 8]"
      ]
     },
     "execution_count": 10,
     "metadata": {},
     "output_type": "execute_result"
    }
   ],
   "source": [
    "myList1 + myList2 #We can concatenate lists"
   ]
  },
  {
   "cell_type": "code",
   "execution_count": 11,
   "id": "fdefaa00",
   "metadata": {},
   "outputs": [],
   "source": [
    "combinedLists = myList1 + myList2"
   ]
  },
  {
   "cell_type": "code",
   "execution_count": 12,
   "id": "b9a02c1c",
   "metadata": {},
   "outputs": [
    {
     "name": "stdout",
     "output_type": "stream",
     "text": [
      "[1, 2, 3, 4, 5, 6, 7, 8]\n"
     ]
    }
   ],
   "source": [
    "print(combinedLists)"
   ]
  },
  {
   "cell_type": "markdown",
   "id": "922eb366",
   "metadata": {},
   "source": [
    "## Mutating Lists"
   ]
  },
  {
   "cell_type": "code",
   "execution_count": 13,
   "id": "cbf98073",
   "metadata": {},
   "outputs": [],
   "source": [
    "myList3 = [\"one\", \"two\", \"three\", \"four\", \"five\"]"
   ]
  },
  {
   "cell_type": "code",
   "execution_count": 14,
   "id": "ad5dd6b5",
   "metadata": {},
   "outputs": [],
   "source": [
    "myList3[0]=\"ONE\" #change the item at the zero index to all caps"
   ]
  },
  {
   "cell_type": "code",
   "execution_count": 15,
   "id": "aa6a8bde",
   "metadata": {},
   "outputs": [
    {
     "name": "stdout",
     "output_type": "stream",
     "text": [
      "['ONE', 'two', 'three', 'four', 'five']\n"
     ]
    }
   ],
   "source": [
    "print(myList3)"
   ]
  },
  {
   "cell_type": "markdown",
   "id": "0acd916f",
   "metadata": {},
   "source": [
    "## Appending Lists  with the `append()` Method\n",
    "Appending a list permanently changes the lists. This is called _affecting it in place._"
   ]
  },
  {
   "cell_type": "code",
   "execution_count": 16,
   "id": "2b73f21b",
   "metadata": {},
   "outputs": [],
   "source": [
    "myList3.append(\"six\")"
   ]
  },
  {
   "cell_type": "code",
   "execution_count": 17,
   "id": "b711fce1",
   "metadata": {},
   "outputs": [
    {
     "name": "stdout",
     "output_type": "stream",
     "text": [
      "['ONE', 'two', 'three', 'four', 'five', 'six']\n"
     ]
    }
   ],
   "source": [
    "print(myList3)"
   ]
  },
  {
   "cell_type": "markdown",
   "id": "9ca1592c",
   "metadata": {},
   "source": [
    "## Removing List Items with the `pop()` Method\n",
    "We use the `pop()` method to remove items from lists. By default the method removes the last item in a list. However, you can use the method to remove any item in a list by specifying the index of the item you want to remove."
   ]
  },
  {
   "cell_type": "code",
   "execution_count": 19,
   "id": "3447dca8",
   "metadata": {},
   "outputs": [
    {
     "data": {
      "text/plain": [
       "'six'"
      ]
     },
     "execution_count": 19,
     "metadata": {},
     "output_type": "execute_result"
    }
   ],
   "source": [
    "myList3.pop() #Removes the last item from the list and returns the item removed."
   ]
  },
  {
   "cell_type": "code",
   "execution_count": 20,
   "id": "7779e564",
   "metadata": {},
   "outputs": [
    {
     "data": {
      "text/plain": [
       "'ONE'"
      ]
     },
     "execution_count": 20,
     "metadata": {},
     "output_type": "execute_result"
    }
   ],
   "source": [
    "myList3.pop(0) #Removes the item at index 0 in the list"
   ]
  },
  {
   "cell_type": "code",
   "execution_count": 21,
   "id": "dc369fbd",
   "metadata": {},
   "outputs": [
    {
     "name": "stdout",
     "output_type": "stream",
     "text": [
      "['two', 'three', 'four', 'five']\n"
     ]
    }
   ],
   "source": [
    "print(myList3)"
   ]
  },
  {
   "cell_type": "markdown",
   "id": "52ce2e42",
   "metadata": {},
   "source": [
    "## Sorting List Items with the `sort()` Method"
   ]
  },
  {
   "cell_type": "code",
   "execution_count": 23,
   "id": "2d5c69b7",
   "metadata": {},
   "outputs": [],
   "source": [
    "myList4 = [\"a\", \"e\", \"x\", \"b\", \"c\"]\n",
    "myList5 = [4, 1, 8, 3]"
   ]
  },
  {
   "cell_type": "code",
   "execution_count": 27,
   "id": "c26ddad7",
   "metadata": {},
   "outputs": [],
   "source": [
    "myList4.sort() #Occurs in place and doesn't return a value, so you can't assign the return value to a variable when you run the method."
   ]
  },
  {
   "cell_type": "code",
   "execution_count": 28,
   "id": "4172460e",
   "metadata": {},
   "outputs": [
    {
     "name": "stdout",
     "output_type": "stream",
     "text": [
      "['a', 'b', 'c', 'e', 'x']\n"
     ]
    }
   ],
   "source": [
    "print(myList4) #But you can print it to see the result. "
   ]
  },
  {
   "cell_type": "code",
   "execution_count": 35,
   "id": "42f4f682",
   "metadata": {},
   "outputs": [],
   "source": [
    "myList4.sort()\n",
    "mySortedList=myList4 #But after you run the sort function you can assign a variable equal to the new value of the sorted list."
   ]
  },
  {
   "cell_type": "code",
   "execution_count": 36,
   "id": "e0f7003a",
   "metadata": {},
   "outputs": [
    {
     "name": "stdout",
     "output_type": "stream",
     "text": [
      "['a', 'b', 'c', 'e', 'x']\n"
     ]
    }
   ],
   "source": [
    "print(mySortedList)"
   ]
  },
  {
   "cell_type": "markdown",
   "id": "20e784c0",
   "metadata": {},
   "source": [
    "## Reversing List Items with the `reverse()` Method"
   ]
  },
  {
   "cell_type": "code",
   "execution_count": 37,
   "id": "bdfd61eb",
   "metadata": {},
   "outputs": [
    {
     "name": "stdout",
     "output_type": "stream",
     "text": [
      "[4, 1, 8, 3]\n"
     ]
    }
   ],
   "source": [
    "print(myList5)"
   ]
  },
  {
   "cell_type": "code",
   "execution_count": 38,
   "id": "d3c56f8e",
   "metadata": {},
   "outputs": [
    {
     "name": "stdout",
     "output_type": "stream",
     "text": [
      "[1, 3, 4, 8]\n"
     ]
    }
   ],
   "source": [
    "myList5.sort()\n",
    "print(myList5)"
   ]
  },
  {
   "cell_type": "code",
   "execution_count": 39,
   "id": "fd215bf6",
   "metadata": {},
   "outputs": [
    {
     "name": "stdout",
     "output_type": "stream",
     "text": [
      "[8, 4, 3, 1]\n"
     ]
    }
   ],
   "source": [
    "myList5.reverse()\n",
    "print(myList5)"
   ]
  },
  {
   "cell_type": "code",
   "execution_count": null,
   "id": "43742959",
   "metadata": {},
   "outputs": [],
   "source": []
  }
 ],
 "metadata": {
  "kernelspec": {
   "display_name": "Python 3 (ipykernel)",
   "language": "python",
   "name": "python3"
  },
  "language_info": {
   "codemirror_mode": {
    "name": "ipython",
    "version": 3
   },
   "file_extension": ".py",
   "mimetype": "text/x-python",
   "name": "python",
   "nbconvert_exporter": "python",
   "pygments_lexer": "ipython3",
   "version": "3.9.7"
  }
 },
 "nbformat": 4,
 "nbformat_minor": 5
}
