{
 "cells": [
  {
   "cell_type": "markdown",
   "id": "667abd59",
   "metadata": {},
   "source": [
    "# 3.16: Indexing and Slicing Strings\n",
    "\n",
    "Indexing - Return a single character in a string<br>\n",
    "Slicing - Return a subsection of a string\n",
    "<br>\n",
    "<br>"
   ]
  },
  {
   "cell_type": "markdown",
   "id": "f2bc0c0b",
   "metadata": {},
   "source": [
    "## Indexing Strings  \n",
    "  \n",
    "    \n",
    "    "
   ]
  },
  {
   "cell_type": "markdown",
   "id": "cdfe933f",
   "metadata": {},
   "source": [
    "### Using Indexing   \n",
    "We can use indexing to return a character at a certain index position.   \n",
    "\n",
    "Examples:"
   ]
  },
  {
   "cell_type": "code",
   "execution_count": 5,
   "id": "624f7c21",
   "metadata": {},
   "outputs": [],
   "source": [
    "mystring = \"Hello World\" #assign the string Hello World to the mystring variable"
   ]
  },
  {
   "cell_type": "code",
   "execution_count": 2,
   "id": "3c0c61d3",
   "metadata": {},
   "outputs": [
    {
     "data": {
      "text/plain": [
       "'H'"
      ]
     },
     "execution_count": 2,
     "metadata": {},
     "output_type": "execute_result"
    }
   ],
   "source": [
    "mystring[0] #return the first character in the string at index 0"
   ]
  },
  {
   "cell_type": "code",
   "execution_count": 3,
   "id": "79192eab",
   "metadata": {},
   "outputs": [
    {
     "data": {
      "text/plain": [
       "'r'"
      ]
     },
     "execution_count": 3,
     "metadata": {},
     "output_type": "execute_result"
    }
   ],
   "source": [
    "mystring[8] #return the ninth character in the string at index 8"
   ]
  },
  {
   "cell_type": "markdown",
   "id": "175ba8c3",
   "metadata": {},
   "source": [
    "### Using Reverse Indexing   \n",
    "We can use reverse indexing to grab characters beginning from the end of a string.   \n",
    "   \n",
    "Examples:"
   ]
  },
  {
   "cell_type": "code",
   "execution_count": 6,
   "id": "49b1c4ab",
   "metadata": {},
   "outputs": [
    {
     "data": {
      "text/plain": [
       "'d'"
      ]
     },
     "execution_count": 6,
     "metadata": {},
     "output_type": "execute_result"
    }
   ],
   "source": [
    "mystring[-1] #return the last character in a string"
   ]
  },
  {
   "cell_type": "code",
   "execution_count": 7,
   "id": "3d41209f",
   "metadata": {},
   "outputs": [
    {
     "data": {
      "text/plain": [
       "'l'"
      ]
     },
     "execution_count": 7,
     "metadata": {},
     "output_type": "execute_result"
    }
   ],
   "source": [
    "mystring[-2] #return the second to the last character in a string"
   ]
  },
  {
   "cell_type": "markdown",
   "id": "e5cb0cd8",
   "metadata": {},
   "source": [
    "## Slicing Strings   \n",
    "<br>\n",
    "Return a subsection of a string.   \n",
    "   \n",
    "   \n",
    "We use the following notation to slice strings:[start:stop:step]\n",
    "<br>   \n",
    "\n",
    "Where:   \n",
    "\n",
    "- _start_ is the index of where to start the slice\n",
    "- _stop_ is the index of where to stop, but not include\n",
    "- _step_ is the number of charcaters to slice  \n",
    "\n",
    "    \n",
    "Examples:"
   ]
  },
  {
   "cell_type": "code",
   "execution_count": 8,
   "id": "74439c3a",
   "metadata": {},
   "outputs": [],
   "source": [
    "mystring = \"abcdefghijk\" #reassign the value of the mystring variable"
   ]
  },
  {
   "cell_type": "code",
   "execution_count": 9,
   "id": "82e47f66",
   "metadata": {},
   "outputs": [
    {
     "data": {
      "text/plain": [
       "'abcdefghijk'"
      ]
     },
     "execution_count": 9,
     "metadata": {},
     "output_type": "execute_result"
    }
   ],
   "source": [
    "mystring"
   ]
  },
  {
   "cell_type": "markdown",
   "id": "56d0489c",
   "metadata": {},
   "source": [
    "### Slicing From the Start "
   ]
  },
  {
   "cell_type": "code",
   "execution_count": 11,
   "id": "56cd0d3e",
   "metadata": {},
   "outputs": [
    {
     "data": {
      "text/plain": [
       "'abc'"
      ]
     },
     "execution_count": 11,
     "metadata": {},
     "output_type": "execute_result"
    }
   ],
   "source": [
    "mystring[:3] #slice up to the third index (but don't include it)"
   ]
  },
  {
   "cell_type": "markdown",
   "id": "7be4f21c",
   "metadata": {},
   "source": [
    "### Slicing From the Middle"
   ]
  },
  {
   "cell_type": "code",
   "execution_count": 12,
   "id": "6253ac1d",
   "metadata": {},
   "outputs": [
    {
     "data": {
      "text/plain": [
       "'def'"
      ]
     },
     "execution_count": 12,
     "metadata": {},
     "output_type": "execute_result"
    }
   ],
   "source": [
    "mystring [3:6]  #return \"def\". Start index is 3 (d). End index is (but not indluced) 6(g)"
   ]
  },
  {
   "cell_type": "code",
   "execution_count": 18,
   "id": "426ce2e6",
   "metadata": {},
   "outputs": [
    {
     "data": {
      "text/plain": [
       "'bc'"
      ]
     },
     "execution_count": 18,
     "metadata": {},
     "output_type": "execute_result"
    }
   ],
   "source": [
    "mystring [1:3] #return \"bc\". Start index is 1(b). End index is (but not included) 3(d)"
   ]
  },
  {
   "cell_type": "code",
   "execution_count": 20,
   "id": "c025a70d",
   "metadata": {},
   "outputs": [
    {
     "data": {
      "text/plain": [
       "'abcdefghijk'"
      ]
     },
     "execution_count": 20,
     "metadata": {},
     "output_type": "execute_result"
    }
   ],
   "source": [
    "mystring"
   ]
  },
  {
   "cell_type": "code",
   "execution_count": 19,
   "id": "63acfc37",
   "metadata": {},
   "outputs": [
    {
     "data": {
      "text/plain": [
       "11"
      ]
     },
     "execution_count": 19,
     "metadata": {},
     "output_type": "execute_result"
    }
   ],
   "source": [
    "len(mystring)"
   ]
  },
  {
   "cell_type": "code",
   "execution_count": 21,
   "id": "f8d9589b",
   "metadata": {},
   "outputs": [
    {
     "data": {
      "text/plain": [
       "'fghij'"
      ]
     },
     "execution_count": 21,
     "metadata": {},
     "output_type": "execute_result"
    }
   ],
   "source": [
    "mystring [5:10] #return \"fghij\". Start index is 5 (f). End index is 10 (k)"
   ]
  },
  {
   "cell_type": "markdown",
   "id": "8de0b6b5",
   "metadata": {},
   "source": [
    "### Slicing From Middle to End"
   ]
  },
  {
   "cell_type": "code",
   "execution_count": 10,
   "id": "3d591330",
   "metadata": {},
   "outputs": [
    {
     "data": {
      "text/plain": [
       "'cdefghijk'"
      ]
     },
     "execution_count": 10,
     "metadata": {},
     "output_type": "execute_result"
    }
   ],
   "source": [
    "mystring[2:] #begin slice at second index and include all characters to the end of the string."
   ]
  },
  {
   "cell_type": "markdown",
   "id": "bfa8f079",
   "metadata": {},
   "source": [
    "### Specifying Step Size / Skipping Characters While Slicing\n",
    "   \n",
    "You can specify the number of characters to skip when slicing a string."
   ]
  },
  {
   "cell_type": "code",
   "execution_count": 22,
   "id": "d7c3423a",
   "metadata": {},
   "outputs": [
    {
     "data": {
      "text/plain": [
       "'abcdefghijk'"
      ]
     },
     "execution_count": 22,
     "metadata": {},
     "output_type": "execute_result"
    }
   ],
   "source": [
    "mystring"
   ]
  },
  {
   "cell_type": "code",
   "execution_count": 23,
   "id": "2ce94886",
   "metadata": {},
   "outputs": [
    {
     "data": {
      "text/plain": [
       "'acegik'"
      ]
     },
     "execution_count": 23,
     "metadata": {},
     "output_type": "execute_result"
    }
   ],
   "source": [
    "mystring[: :2] #returns every other/second character in a string"
   ]
  },
  {
   "cell_type": "code",
   "execution_count": 24,
   "id": "5cec7bf2",
   "metadata": {},
   "outputs": [
    {
     "data": {
      "text/plain": [
       "'adgj'"
      ]
     },
     "execution_count": 24,
     "metadata": {},
     "output_type": "execute_result"
    }
   ],
   "source": [
    "mystring[: :3] #returns every third character in a string"
   ]
  },
  {
   "cell_type": "code",
   "execution_count": 25,
   "id": "9746416a",
   "metadata": {},
   "outputs": [
    {
     "data": {
      "text/plain": [
       "'ceg'"
      ]
     },
     "execution_count": 25,
     "metadata": {},
     "output_type": "execute_result"
    }
   ],
   "source": [
    "mystring[2:7:2] #starting at index 2(c), up to but not including index 7 (g), return every other character"
   ]
  },
  {
   "cell_type": "markdown",
   "id": "287819bd",
   "metadata": {},
   "source": [
    "## Reversing Strings   \n",
    "   \n",
    "We can reverse strings using start:stop:step values.   \n",
    "\n",
    "For example:   \n"
   ]
  },
  {
   "cell_type": "code",
   "execution_count": 26,
   "id": "da064968",
   "metadata": {},
   "outputs": [
    {
     "data": {
      "text/plain": [
       "'kjihgfedcba'"
      ]
     },
     "execution_count": 26,
     "metadata": {},
     "output_type": "execute_result"
    }
   ],
   "source": [
    "mystring [ : :-1]"
   ]
  },
  {
   "cell_type": "markdown",
   "id": "732f4368",
   "metadata": {},
   "source": [
    "What's happening:   \n",
    "- By leaving the start argument empty, we're saying start at the beginning of the string.\n",
    "- By leaving the stop argument empty, we're saying go all the way to the end of the string.\n",
    "- By specifying -1 as the step argument, we're saying start from the end of the string and return each character.\n"
   ]
  },
  {
   "cell_type": "markdown",
   "id": "035ae879",
   "metadata": {},
   "source": [
    "Often in interviews, people ask you to reverse a string and Pythonistas can quickly just do this nice slick one-liner instead of doing a for loop."
   ]
  },
  {
   "cell_type": "code",
   "execution_count": null,
   "id": "919351d3",
   "metadata": {},
   "outputs": [],
   "source": []
  }
 ],
 "metadata": {
  "kernelspec": {
   "display_name": "Python 3 (ipykernel)",
   "language": "python",
   "name": "python3"
  },
  "language_info": {
   "codemirror_mode": {
    "name": "ipython",
    "version": 3
   },
   "file_extension": ".py",
   "mimetype": "text/x-python",
   "name": "python",
   "nbconvert_exporter": "python",
   "pygments_lexer": "ipython3",
   "version": "3.9.7"
  }
 },
 "nbformat": 4,
 "nbformat_minor": 5
}
