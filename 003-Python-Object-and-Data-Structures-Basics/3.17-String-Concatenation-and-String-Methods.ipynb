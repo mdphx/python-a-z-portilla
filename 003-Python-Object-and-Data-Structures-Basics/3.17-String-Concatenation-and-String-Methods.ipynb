{
 "cells": [
  {
   "cell_type": "markdown",
   "id": "b6727907",
   "metadata": {},
   "source": [
    "# 3.17: String Concatenation and String Methods\n"
   ]
  },
  {
   "cell_type": "markdown",
   "id": "33256b63",
   "metadata": {},
   "source": [
    "## String Concatenation.  \n"
   ]
  },
  {
   "cell_type": "markdown",
   "id": "73533224",
   "metadata": {},
   "source": [
    "### Example 1   \n",
    "Concatenating strings using string indexing and the addition operator."
   ]
  },
  {
   "cell_type": "code",
   "execution_count": 9,
   "id": "1eb98524",
   "metadata": {},
   "outputs": [
    {
     "data": {
      "text/plain": [
       "'Sam'"
      ]
     },
     "execution_count": 9,
     "metadata": {},
     "output_type": "execute_result"
    }
   ],
   "source": [
    "name = \"Sam\"\n",
    "name"
   ]
  },
  {
   "cell_type": "code",
   "execution_count": 4,
   "id": "6b167f07",
   "metadata": {},
   "outputs": [
    {
     "data": {
      "text/plain": [
       "'am'"
      ]
     },
     "execution_count": 4,
     "metadata": {},
     "output_type": "execute_result"
    }
   ],
   "source": [
    "last_letters = name[1:]\n",
    "last_letters"
   ]
  },
  {
   "cell_type": "code",
   "execution_count": 5,
   "id": "699ef221",
   "metadata": {},
   "outputs": [
    {
     "data": {
      "text/plain": [
       "'Pam'"
      ]
     },
     "execution_count": 5,
     "metadata": {},
     "output_type": "execute_result"
    }
   ],
   "source": [
    "\"P\" + last_letters"
   ]
  },
  {
   "cell_type": "markdown",
   "id": "219f8d87",
   "metadata": {},
   "source": [
    "### Example 2   \n",
    "Concatenating strings using the addition operator."
   ]
  },
  {
   "cell_type": "code",
   "execution_count": 6,
   "id": "04f7eb61",
   "metadata": {},
   "outputs": [
    {
     "data": {
      "text/plain": [
       "\"Hello World it's beautiful outside!\""
      ]
     },
     "execution_count": 6,
     "metadata": {},
     "output_type": "execute_result"
    }
   ],
   "source": [
    "x = \"Hello World\"\n",
    "x + \" it's beautiful outside!\""
   ]
  },
  {
   "cell_type": "markdown",
   "id": "6e3b768a",
   "metadata": {},
   "source": [
    "### Example 3   \n",
    "Concatenating strings using the multiplication operator."
   ]
  },
  {
   "cell_type": "code",
   "execution_count": 10,
   "id": "403e9b6f",
   "metadata": {},
   "outputs": [],
   "source": [
    "letter = \"z\""
   ]
  },
  {
   "cell_type": "code",
   "execution_count": 11,
   "id": "79154df0",
   "metadata": {},
   "outputs": [
    {
     "data": {
      "text/plain": [
       "'zzzzzzzzzz'"
      ]
     },
     "execution_count": 11,
     "metadata": {},
     "output_type": "execute_result"
    }
   ],
   "source": [
    "letter * 10"
   ]
  },
  {
   "cell_type": "markdown",
   "id": "b819b205",
   "metadata": {},
   "source": [
    "## Using String Methods"
   ]
  },
  {
   "cell_type": "markdown",
   "id": "ee19b662",
   "metadata": {},
   "source": [
    "To access string methods, after the string variable name, enter a perio and hit enter to view a list of available attributes and methods."
   ]
  },
  {
   "cell_type": "markdown",
   "id": "12dd6b7d",
   "metadata": {},
   "source": [
    "### Example 1   \n",
    "Using the string `upper()` method."
   ]
  },
  {
   "cell_type": "code",
   "execution_count": 12,
   "id": "c2281251",
   "metadata": {},
   "outputs": [
    {
     "data": {
      "text/plain": [
       "'HELLO WORLD'"
      ]
     },
     "execution_count": 12,
     "metadata": {},
     "output_type": "execute_result"
    }
   ],
   "source": [
    "x.upper()"
   ]
  },
  {
   "cell_type": "markdown",
   "id": "d5545eab",
   "metadata": {},
   "source": [
    "### Example 2   \n",
    "Using the string `lower()` method."
   ]
  },
  {
   "cell_type": "code",
   "execution_count": 13,
   "id": "b653b4f8",
   "metadata": {
    "scrolled": true
   },
   "outputs": [
    {
     "data": {
      "text/plain": [
       "'hello world'"
      ]
     },
     "execution_count": 13,
     "metadata": {},
     "output_type": "execute_result"
    }
   ],
   "source": [
    "x.lower()"
   ]
  },
  {
   "cell_type": "markdown",
   "id": "461557a4",
   "metadata": {},
   "source": [
    "### Example 3   \n",
    "Using the string "
   ]
  },
  {
   "cell_type": "code",
   "execution_count": 14,
   "id": "efe49566",
   "metadata": {},
   "outputs": [
    {
     "data": {
      "text/plain": [
       "['Hello', 'World']"
      ]
     },
     "execution_count": 14,
     "metadata": {},
     "output_type": "execute_result"
    }
   ],
   "source": [
    "x.split() #By default the split() method splits on the white space."
   ]
  },
  {
   "cell_type": "code",
   "execution_count": 16,
   "id": "7fc154d1",
   "metadata": {},
   "outputs": [
    {
     "data": {
      "text/plain": [
       "['He', '', 'o Wor', 'd']"
      ]
     },
     "execution_count": 16,
     "metadata": {},
     "output_type": "execute_result"
    }
   ],
   "source": [
    "x.split(\"l\") #Pass in a letter from the string to split on that letter. Notice that the letter passed in isn't included in the return value."
   ]
  },
  {
   "cell_type": "code",
   "execution_count": 1,
   "id": "252cd413",
   "metadata": {},
   "outputs": [],
   "source": [
    "y=\"fruit\""
   ]
  },
  {
   "cell_type": "code",
   "execution_count": null,
   "id": "a61baf97",
   "metadata": {},
   "outputs": [],
   "source": []
  }
 ],
 "metadata": {
  "kernelspec": {
   "display_name": "Python 3 (ipykernel)",
   "language": "python",
   "name": "python3"
  },
  "language_info": {
   "codemirror_mode": {
    "name": "ipython",
    "version": 3
   },
   "file_extension": ".py",
   "mimetype": "text/x-python",
   "name": "python",
   "nbconvert_exporter": "python",
   "pygments_lexer": "ipython3",
   "version": "3.9.7"
  }
 },
 "nbformat": 4,
 "nbformat_minor": 5
}
