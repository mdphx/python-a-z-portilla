{
 "cells": [
  {
   "cell_type": "markdown",
   "id": "f65e022d",
   "metadata": {},
   "source": [
    "# 3.26: Sets in Python"
   ]
  },
  {
   "cell_type": "markdown",
   "id": "12bfb039",
   "metadata": {},
   "source": [
    "Sets are unordered collections of unique elements. That is, there can only be one representative of the same object.   \n",
    "\n",
    "We use the `add()` method to add items to a set."
   ]
  },
  {
   "cell_type": "markdown",
   "id": "7fe9ead2",
   "metadata": {},
   "source": [
    "## Declaring Sets"
   ]
  },
  {
   "cell_type": "code",
   "execution_count": 1,
   "id": "e12b0521",
   "metadata": {},
   "outputs": [],
   "source": [
    "mySet=set() #declaration of an empty set."
   ]
  },
  {
   "cell_type": "code",
   "execution_count": 2,
   "id": "60732bd6",
   "metadata": {},
   "outputs": [
    {
     "data": {
      "text/plain": [
       "set()"
      ]
     },
     "execution_count": 2,
     "metadata": {},
     "output_type": "execute_result"
    }
   ],
   "source": [
    "mySet"
   ]
  },
  {
   "cell_type": "markdown",
   "id": "bbe59d0d",
   "metadata": {},
   "source": [
    "## Adding Elements to Sets"
   ]
  },
  {
   "cell_type": "code",
   "execution_count": 3,
   "id": "39b7d1ac",
   "metadata": {},
   "outputs": [],
   "source": [
    "mySet.add(1) #adding the number 1 to the set."
   ]
  },
  {
   "cell_type": "code",
   "execution_count": 4,
   "id": "f3efefec",
   "metadata": {},
   "outputs": [
    {
     "data": {
      "text/plain": [
       "{1}"
      ]
     },
     "execution_count": 4,
     "metadata": {},
     "output_type": "execute_result"
    }
   ],
   "source": [
    "mySet"
   ]
  },
  {
   "cell_type": "code",
   "execution_count": 6,
   "id": "eda35602",
   "metadata": {},
   "outputs": [],
   "source": [
    "mySet.add(2) #adding the number 2 to the set."
   ]
  },
  {
   "cell_type": "markdown",
   "id": "6f9f83a1",
   "metadata": {},
   "source": [
    "## Casting Lists to Sets   \n",
    "We can cast a list to a set to return the unique values."
   ]
  },
  {
   "cell_type": "code",
   "execution_count": 7,
   "id": "f964abf9",
   "metadata": {},
   "outputs": [],
   "source": [
    "myList = [8,8, 8, 10, 10, 10, 33, 33, 54, 101, 101, 101]"
   ]
  },
  {
   "cell_type": "code",
   "execution_count": 8,
   "id": "1fa76199",
   "metadata": {},
   "outputs": [
    {
     "data": {
      "text/plain": [
       "[8, 8, 8, 10, 10, 10, 33, 33, 54, 101, 101, 101]"
      ]
     },
     "execution_count": 8,
     "metadata": {},
     "output_type": "execute_result"
    }
   ],
   "source": [
    "myList"
   ]
  },
  {
   "cell_type": "code",
   "execution_count": 9,
   "id": "8d453bf0",
   "metadata": {},
   "outputs": [
    {
     "data": {
      "text/plain": [
       "{8, 10, 33, 54, 101}"
      ]
     },
     "execution_count": 9,
     "metadata": {},
     "output_type": "execute_result"
    }
   ],
   "source": [
    "set(myList) #Pass in the myList variable as an argument to return the unique values.3.26-"
   ]
  },
  {
   "cell_type": "code",
   "execution_count": null,
   "id": "f00e269a",
   "metadata": {},
   "outputs": [],
   "source": []
  }
 ],
 "metadata": {
  "kernelspec": {
   "display_name": "Python 3 (ipykernel)",
   "language": "python",
   "name": "python3"
  },
  "language_info": {
   "codemirror_mode": {
    "name": "ipython",
    "version": 3
   },
   "file_extension": ".py",
   "mimetype": "text/x-python",
   "name": "python",
   "nbconvert_exporter": "python",
   "pygments_lexer": "ipython3",
   "version": "3.9.7"
  }
 },
 "nbformat": 4,
 "nbformat_minor": 5
}
