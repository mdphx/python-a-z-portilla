{
 "cells": [
  {
   "attachments": {},
   "cell_type": "markdown",
   "id": "c2d05d14",
   "metadata": {},
   "source": [
    "# 4.32: Comparison Operators in Python   \n",
    "\n",
    "The following table describes Python comparison operators:   \n",
    "\n",
    "\n",
    "<img src=\"images/python-comparison-operators.jpg\" align=left>"
   ]
  },
  {
   "cell_type": "code",
   "execution_count": null,
   "id": "4123350b",
   "metadata": {},
   "outputs": [],
   "source": []
  }
 ],
 "metadata": {
  "kernelspec": {
   "display_name": "Python 3 (ipykernel)",
   "language": "python",
   "name": "python3"
  },
  "language_info": {
   "codemirror_mode": {
    "name": "ipython",
    "version": 3
   },
   "file_extension": ".py",
   "mimetype": "text/x-python",
   "name": "python",
   "nbconvert_exporter": "python",
   "pygments_lexer": "ipython3",
   "version": "3.9.7"
  }
 },
 "nbformat": 4,
 "nbformat_minor": 5
}
