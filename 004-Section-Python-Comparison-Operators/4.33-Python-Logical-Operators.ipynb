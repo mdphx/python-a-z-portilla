{
 "cells": [
  {
   "cell_type": "markdown",
   "id": "1d4825e1",
   "metadata": {},
   "source": [
    "# 4.33: Logical Operators in Python   \n",
    "   \n",
    "We use logical operators to combine comparisons. Logical operators include:\n",
    "- and\n",
    "- or\n",
    "- not"
   ]
  },
  {
   "cell_type": "markdown",
   "id": "55bd1dde",
   "metadata": {},
   "source": [
    "### Using the _and_ Logical Operator"
   ]
  },
  {
   "cell_type": "code",
   "execution_count": 3,
   "id": "9da2d3b4",
   "metadata": {},
   "outputs": [
    {
     "data": {
      "text/plain": [
       "True"
      ]
     },
     "execution_count": 3,
     "metadata": {},
     "output_type": "execute_result"
    }
   ],
   "source": [
    "1 < 2 and 2 < 3 #Using the \"and\" operator to evaluate two statements. Returns True if both statements are true."
   ]
  },
  {
   "cell_type": "markdown",
   "id": "9e1bff0b",
   "metadata": {},
   "source": [
    "### Using the _or_ Logical Operator"
   ]
  },
  {
   "cell_type": "code",
   "execution_count": 2,
   "id": "37fc2ee8",
   "metadata": {},
   "outputs": [
    {
     "data": {
      "text/plain": [
       "True"
      ]
     },
     "execution_count": 2,
     "metadata": {},
     "output_type": "execute_result"
    }
   ],
   "source": [
    "1 > 2 or 2 < 3 #Using the \"or\" operator to evaluate two statements. Returns True if one of the statements is true."
   ]
  },
  {
   "cell_type": "markdown",
   "id": "2711999c",
   "metadata": {},
   "source": [
    "### Using the _not_ Logical Operator"
   ]
  },
  {
   "cell_type": "code",
   "execution_count": 7,
   "id": "5f4e21bc",
   "metadata": {},
   "outputs": [
    {
     "data": {
      "text/plain": [
       "True"
      ]
     },
     "execution_count": 7,
     "metadata": {},
     "output_type": "execute_result"
    }
   ],
   "source": [
    "not 400 == 5000 #Returns the opposite of the evalutated result. Reverse the result, returns True if the result is false, and returns False if the result is true."
   ]
  },
  {
   "cell_type": "code",
   "execution_count": null,
   "id": "76e8acf6",
   "metadata": {},
   "outputs": [],
   "source": []
  }
 ],
 "metadata": {
  "kernelspec": {
   "display_name": "Python 3 (ipykernel)",
   "language": "python",
   "name": "python3"
  },
  "language_info": {
   "codemirror_mode": {
    "name": "ipython",
    "version": 3
   },
   "file_extension": ".py",
   "mimetype": "text/x-python",
   "name": "python",
   "nbconvert_exporter": "python",
   "pygments_lexer": "ipython3",
   "version": "3.9.7"
  }
 },
 "nbformat": 4,
 "nbformat_minor": 5
}
