{
 "cells": [
  {
   "cell_type": "markdown",
   "id": "c395557d",
   "metadata": {},
   "source": [
    "# 5.34: Control Flow with if, elif and else Statements   \n",
    "We can use control flow statements to execute code when a particular condition is met.   \n",
    "For example, if I earn \\\\$100 dollars, I will put $25 in the bank.   \n",
    "\n",
    "To code this type of logic we use control statement keywords. The keywords covered in this document are:\n",
    "- if\n",
    "- elif\n",
    "- else\n",
    "\n",
    "Control flow syntax in Python makes use of colons and indentation (whitespace). This indentation system is crucial to Python and sets it apart from other programming languages.\n",
    "\n",
    "Syntax of an if statement:\n",
    "\n",
    "    if some_condition:\n",
    "        # execute some code\n",
    "    else:\n",
    "        # do something else\n",
    "\n",
    "To check for multiple conditions, use an elif statement:\n",
    "\n",
    "      if some_condition:\n",
    "            # execute some code            \n",
    "      elif some_other_ondition:\n",
    "            # execute this code      \n",
    "      else:\n",
    "            # do something else"
   ]
  },
  {
   "cell_type": "markdown",
   "id": "07f03deb",
   "metadata": {},
   "source": [
    "## Simple Control Flow Statements"
   ]
  },
  {
   "cell_type": "code",
   "execution_count": 1,
   "id": "8cf356fd",
   "metadata": {},
   "outputs": [
    {
     "name": "stdout",
     "output_type": "stream",
     "text": [
      "It's true!\n"
     ]
    }
   ],
   "source": [
    "if True:\n",
    "    print (\"It's true!\") "
   ]
  },
  {
   "cell_type": "code",
   "execution_count": 2,
   "id": "bda5a9c5",
   "metadata": {},
   "outputs": [
    {
     "name": "stdout",
     "output_type": "stream",
     "text": [
      "It's true!\n"
     ]
    }
   ],
   "source": [
    "if 3 > 2:\n",
    "    print (\"It's true!\")"
   ]
  },
  {
   "cell_type": "code",
   "execution_count": 3,
   "id": "3a1f60c5",
   "metadata": {},
   "outputs": [
    {
     "name": "stdout",
     "output_type": "stream",
     "text": [
      "Let's grab a bite to eat!\n"
     ]
    }
   ],
   "source": [
    "hungry = True\n",
    "\n",
    "if hungry:\n",
    "    print (\"Let's grab a bite to eat!\")"
   ]
  },
  {
   "cell_type": "code",
   "execution_count": 4,
   "id": "2264ab2f",
   "metadata": {},
   "outputs": [
    {
     "name": "stdout",
     "output_type": "stream",
     "text": [
      "I'm not hungry\n"
     ]
    }
   ],
   "source": [
    "hungry = False\n",
    "\n",
    "if hungry:\n",
    "    print (\"Let's grab a bite to eat!\")\n",
    "else:\n",
    "    print (\"I'm not hungry\")"
   ]
  },
  {
   "cell_type": "markdown",
   "id": "4948735b",
   "metadata": {},
   "source": [
    "## Multiple Branches Using Control Flow"
   ]
  },
  {
   "cell_type": "code",
   "execution_count": 6,
   "id": "cb2965f6",
   "metadata": {},
   "outputs": [
    {
     "name": "stdout",
     "output_type": "stream",
     "text": [
      "Money is awesome!\n"
     ]
    }
   ],
   "source": [
    "loc = \"bank\"\n",
    "\n",
    "if loc == \"auto shop\":\n",
    "    print (\"Cars are cool!\")\n",
    "elif loc == \"bank\":\n",
    "    print (\"Money is awesome!\")\n",
    "elif loc == \"store\":\n",
    "    print (\"Welcome to the store!\")\n",
    "else:\n",
    "    print (\"Where are we??\")"
   ]
  },
  {
   "cell_type": "code",
   "execution_count": null,
   "id": "5e76b431",
   "metadata": {},
   "outputs": [],
   "source": []
  }
 ],
 "metadata": {
  "kernelspec": {
   "display_name": "Python 3 (ipykernel)",
   "language": "python",
   "name": "python3"
  },
  "language_info": {
   "codemirror_mode": {
    "name": "ipython",
    "version": 3
   },
   "file_extension": ".py",
   "mimetype": "text/x-python",
   "name": "python",
   "nbconvert_exporter": "python",
   "pygments_lexer": "ipython3",
   "version": "3.9.7"
  }
 },
 "nbformat": 4,
 "nbformat_minor": 5
}
