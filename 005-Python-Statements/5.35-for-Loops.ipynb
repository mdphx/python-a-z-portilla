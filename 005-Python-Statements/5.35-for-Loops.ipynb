{
 "cells": [
  {
   "cell_type": "markdown",
   "id": "0dd3c1c8",
   "metadata": {},
   "source": [
    "# 5.35: Using for Loops in Python   \n",
    "\n"
   ]
  },
  {
   "cell_type": "markdown",
   "id": "9a7104a8",
   "metadata": {},
   "source": [
    "This notebook provides an overview of for loops in Python and discusses how to:\n",
    "- Use for loops with lists.\n",
    "- Use for loops with strings.\n",
    "- Use for loops with tuples.\n",
    "- Use for loops with dictionaries."
   ]
  },
  {
   "cell_type": "markdown",
   "id": "14b1dd6a",
   "metadata": {},
   "source": [
    "### Understanding for Loops in Python   \n",
    "Many objects in Python are iterable, which means you can iterate over every element in the object.   \n",
    "Iteration means that you can perform an action on one or more element or item in the object.   \n",
    "For example, you can iterate over every element in a list or every character in a string.  \n",
    "\n",
    "We can use a for loop to execute a block of code for every iteration.\n",
    "\n",
    "Syntax of a for loop:\n",
    "\n",
    "    my_list = [1, 2, 3]\n",
    "    for item_name in my_ist:\n",
    "        print(item_name)\n",
    "\n",
    "In the above example we've declared a variable `my_list` and set it equal to a list with the value `[1, 2, 3].`\n",
    "\n",
    "The variable we provide after the for keyword (`item_name`)represents an item in the list.\n",
    "\n",
    "In this code, the system will iterate through every item in the list, and after each iteration print the value of the item iterated.\n",
    "\n",
    "Important! Do not use `list` as a variable name as it's a reserved keywork in Python. "
   ]
  },
  {
   "cell_type": "markdown",
   "id": "475f442d",
   "metadata": {},
   "source": [
    "## Using for Loops with Lists"
   ]
  },
  {
   "cell_type": "markdown",
   "id": "5ee9d9ff",
   "metadata": {},
   "source": [
    "### Example: Printing Each Value in a List"
   ]
  },
  {
   "cell_type": "code",
   "execution_count": 1,
   "id": "37aed073",
   "metadata": {},
   "outputs": [],
   "source": [
    "my_list = [1, 2, 3, 4, 5, 6, 7, 8, 9, 10] #Declare a list of values"
   ]
  },
  {
   "cell_type": "code",
   "execution_count": 2,
   "id": "6984ea4b",
   "metadata": {},
   "outputs": [
    {
     "name": "stdout",
     "output_type": "stream",
     "text": [
      "1\n",
      "2\n",
      "3\n",
      "4\n",
      "5\n",
      "6\n",
      "7\n",
      "8\n",
      "9\n",
      "10\n"
     ]
    }
   ],
   "source": [
    "for num in my_list:\n",
    "    print(num)"
   ]
  },
  {
   "cell_type": "markdown",
   "id": "ca23100d",
   "metadata": {},
   "source": [
    "### Example: Printing the Even Numbers in a List"
   ]
  },
  {
   "cell_type": "code",
   "execution_count": 3,
   "id": "98fce332",
   "metadata": {},
   "outputs": [
    {
     "name": "stdout",
     "output_type": "stream",
     "text": [
      "2\n",
      "4\n",
      "6\n",
      "8\n",
      "10\n"
     ]
    }
   ],
   "source": [
    "for num in my_list:\n",
    "    #Check for even\n",
    "    if num % 2 == 0:\n",
    "        print (num)"
   ]
  },
  {
   "cell_type": "markdown",
   "id": "97cb65af",
   "metadata": {},
   "source": [
    "### Example: Printing and Identifying Even and Odd Numbers in a List\n",
    "\n",
    "In this example we'll combine the use of for loops with control flow and string literals."
   ]
  },
  {
   "cell_type": "code",
   "execution_count": 7,
   "id": "6603c249",
   "metadata": {},
   "outputs": [
    {
     "name": "stdout",
     "output_type": "stream",
     "text": [
      "1 (odd)\n",
      "2 (even)\n",
      "3 (odd)\n",
      "4 (even)\n",
      "5 (odd)\n",
      "6 (even)\n",
      "7 (odd)\n",
      "8 (even)\n",
      "9 (odd)\n",
      "10 (even)\n"
     ]
    }
   ],
   "source": [
    "for num in my_list:\n",
    "    #Check for even\n",
    "    if num % 2 == 0:\n",
    "        print (f\"{num} (even)\")\n",
    "    else:\n",
    "        print (f\"{num} (odd)\")\n",
    "        "
   ]
  },
  {
   "cell_type": "markdown",
   "id": "577b75ea",
   "metadata": {},
   "source": [
    "### Example: Keeping a Running Tally of Numbers"
   ]
  },
  {
   "cell_type": "code",
   "execution_count": 8,
   "id": "eb4de3fe",
   "metadata": {},
   "outputs": [
    {
     "name": "stdout",
     "output_type": "stream",
     "text": [
      "1\n",
      "3\n",
      "6\n",
      "10\n",
      "15\n",
      "21\n",
      "28\n",
      "36\n",
      "45\n",
      "55\n"
     ]
    }
   ],
   "source": [
    "list_sum = 0\n",
    "\n",
    "for num in my_list:\n",
    "    list_sum = list_sum + num\n",
    "    print(list_sum)"
   ]
  },
  {
   "cell_type": "markdown",
   "id": "953d6852",
   "metadata": {},
   "source": [
    "### Example: Summing a List of Numbers\n",
    "To get just the tally or just total sum of the above list, all we have to do is move the print function out of the for loop code block."
   ]
  },
  {
   "cell_type": "code",
   "execution_count": 9,
   "id": "3cde52cd",
   "metadata": {},
   "outputs": [
    {
     "name": "stdout",
     "output_type": "stream",
     "text": [
      "55\n"
     ]
    }
   ],
   "source": [
    "list_sum = 0\n",
    "\n",
    "for num in my_list:\n",
    "    list_sum = list_sum + num\n",
    "\n",
    "print(list_sum)"
   ]
  },
  {
   "cell_type": "markdown",
   "id": "4cd7aa3a",
   "metadata": {},
   "source": [
    "## Using for Loops with Strings"
   ]
  },
  {
   "cell_type": "code",
   "execution_count": 13,
   "id": "78d15c2a",
   "metadata": {},
   "outputs": [
    {
     "name": "stdout",
     "output_type": "stream",
     "text": [
      "H\n",
      "e\n",
      "l\n",
      "l\n",
      "o\n",
      " \n",
      "W\n",
      "o\n",
      "r\n",
      "l\n",
      "d\n"
     ]
    }
   ],
   "source": [
    "mystring = \"Hello World\"\n",
    "\n",
    "for letter in mystring:\n",
    "    print(letter)"
   ]
  },
  {
   "cell_type": "markdown",
   "id": "7f6b4bfc",
   "metadata": {},
   "source": [
    "You don't have to declare the string first as shown in the previous example. INstead you can pass in the string in the for loop as shown here:"
   ]
  },
  {
   "cell_type": "code",
   "execution_count": 14,
   "id": "91ccdb47",
   "metadata": {},
   "outputs": [
    {
     "name": "stdout",
     "output_type": "stream",
     "text": [
      "H\n",
      "e\n",
      "l\n",
      "l\n",
      "o\n",
      " \n",
      "W\n",
      "o\n",
      "r\n",
      "l\n",
      "d\n"
     ]
    }
   ],
   "source": [
    "for letter in \"Hello World\":\n",
    "    print(letter)"
   ]
  },
  {
   "cell_type": "markdown",
   "id": "0bb9942d",
   "metadata": {},
   "source": [
    "## Using for Loops with Tuples"
   ]
  },
  {
   "cell_type": "code",
   "execution_count": 16,
   "id": "7ad46c96",
   "metadata": {},
   "outputs": [
    {
     "name": "stdout",
     "output_type": "stream",
     "text": [
      "1\n",
      "2\n",
      "3\n"
     ]
    }
   ],
   "source": [
    "tup = (1, 2, 3)\n",
    "\n",
    "for item in tup:\n",
    "    print(item)"
   ]
  },
  {
   "cell_type": "markdown",
   "id": "b85c4de2",
   "metadata": {},
   "source": [
    "### Using Tuple Unpacking"
   ]
  },
  {
   "cell_type": "code",
   "execution_count": 24,
   "id": "d061507c",
   "metadata": {},
   "outputs": [],
   "source": [
    "mylist1 = [(1, 2), (3, 4), (5, 6), (7, 8)]# Create a list of tuple pairs."
   ]
  },
  {
   "cell_type": "code",
   "execution_count": 25,
   "id": "8a7e0cf2",
   "metadata": {},
   "outputs": [
    {
     "data": {
      "text/plain": [
       "4"
      ]
     },
     "execution_count": 25,
     "metadata": {},
     "output_type": "execute_result"
    }
   ],
   "source": [
    "len(mylist1) #invoking the length function to get the length of the list."
   ]
  },
  {
   "cell_type": "code",
   "execution_count": 26,
   "id": "65b6021b",
   "metadata": {},
   "outputs": [
    {
     "name": "stdout",
     "output_type": "stream",
     "text": [
      "(1, 2)\n",
      "(3, 4)\n",
      "(5, 6)\n",
      "(7, 8)\n"
     ]
    }
   ],
   "source": [
    "for item in mylist1:\n",
    "    print(item)        #print all the items in the list. We see there are four tuples in the list."
   ]
  },
  {
   "cell_type": "markdown",
   "id": "6cad5641",
   "metadata": {},
   "source": [
    "We can use unpacking to get access to the individual items in the tuple."
   ]
  },
  {
   "cell_type": "code",
   "execution_count": 27,
   "id": "5acca089",
   "metadata": {},
   "outputs": [
    {
     "name": "stdout",
     "output_type": "stream",
     "text": [
      "1\n",
      "2\n",
      "3\n",
      "4\n",
      "5\n",
      "6\n",
      "7\n",
      "8\n"
     ]
    }
   ],
   "source": [
    "for (a, b) in mylist1:\n",
    "    print(a)   \n",
    "    print(b)"
   ]
  },
  {
   "cell_type": "code",
   "execution_count": 28,
   "id": "21545b7f",
   "metadata": {},
   "outputs": [
    {
     "name": "stdout",
     "output_type": "stream",
     "text": [
      "1\n",
      "2\n",
      "3\n",
      "4\n",
      "5\n",
      "6\n",
      "7\n",
      "8\n"
     ]
    }
   ],
   "source": [
    "for a, b in mylist1: #You don't need to include a and b in parens.\n",
    "    print(a)   \n",
    "    print(b)"
   ]
  },
  {
   "cell_type": "markdown",
   "id": "0d9896dd",
   "metadata": {},
   "source": [
    "### Example"
   ]
  },
  {
   "cell_type": "code",
   "execution_count": 29,
   "id": "fa473369",
   "metadata": {},
   "outputs": [],
   "source": [
    "mylist2 = [(1, 2, 3), (4, 5, 6), (7, 8, 9)]"
   ]
  },
  {
   "cell_type": "code",
   "execution_count": 30,
   "id": "f94508bd",
   "metadata": {},
   "outputs": [
    {
     "data": {
      "text/plain": [
       "3"
      ]
     },
     "execution_count": 30,
     "metadata": {},
     "output_type": "execute_result"
    }
   ],
   "source": [
    "len(mylist2)"
   ]
  },
  {
   "cell_type": "code",
   "execution_count": 31,
   "id": "55786723",
   "metadata": {},
   "outputs": [
    {
     "name": "stdout",
     "output_type": "stream",
     "text": [
      "2\n",
      "5\n",
      "8\n"
     ]
    }
   ],
   "source": [
    "for a, b, c in mylist2:\n",
    "    print(b)"
   ]
  },
  {
   "cell_type": "markdown",
   "id": "44bd940a",
   "metadata": {},
   "source": [
    "## Using for Loops with Dictionaries\n",
    "\n",
    "By default when you iterate through a dictionary, you only iterate through the keys.\n",
    "\n",
    "However, we can use the same unpacking technique that we used on tuples with dictionaries to return key values only."
   ]
  },
  {
   "cell_type": "markdown",
   "id": "3e91cbe0",
   "metadata": {},
   "source": [
    "### Returning Dictionary Keys (Default Behavior)"
   ]
  },
  {
   "cell_type": "code",
   "execution_count": 39,
   "id": "b48f9c3e",
   "metadata": {},
   "outputs": [
    {
     "name": "stdout",
     "output_type": "stream",
     "text": [
      "k1\n",
      "k2\n",
      "k3\n"
     ]
    }
   ],
   "source": [
    "d = {\"k1\":1, \"k2\":2, \"k3\":3}\n",
    "\n",
    "for item in d:   ### Default behavior iterating through a dictionary returns the keys\n",
    "    print(item)"
   ]
  },
  {
   "cell_type": "markdown",
   "id": "60e83538",
   "metadata": {},
   "source": [
    "### Returning Key Values\n",
    "We can use the value() method on the dictionary variable to also return the values"
   ]
  },
  {
   "cell_type": "code",
   "execution_count": 46,
   "id": "16aea371",
   "metadata": {},
   "outputs": [
    {
     "name": "stdout",
     "output_type": "stream",
     "text": [
      "1\n",
      "2\n",
      "3\n"
     ]
    }
   ],
   "source": [
    "for item in d.values():\n",
    "    print(item)"
   ]
  },
  {
   "cell_type": "markdown",
   "id": "04d0e86f",
   "metadata": {},
   "source": [
    "### Returning Dictionary Key:Value Pairs\n",
    "\n",
    "Using the items() method on the dictionary variable will let you loop through the dictionary and return the key:value pairs."
   ]
  },
  {
   "cell_type": "code",
   "execution_count": 34,
   "id": "e069f1ec",
   "metadata": {},
   "outputs": [
    {
     "name": "stdout",
     "output_type": "stream",
     "text": [
      "('k1', 1)\n",
      "('k2', 2)\n",
      "('k3', 3)\n"
     ]
    }
   ],
   "source": [
    "for item in d.items(): #Use the items() method on the dictionary variable\n",
    "    print(item)"
   ]
  },
  {
   "cell_type": "markdown",
   "id": "38eb1c89",
   "metadata": {},
   "source": [
    "### Using Unpacking to Return Key Values"
   ]
  },
  {
   "cell_type": "code",
   "execution_count": 45,
   "id": "bd1a78ac",
   "metadata": {},
   "outputs": [
    {
     "name": "stdout",
     "output_type": "stream",
     "text": [
      "1\n",
      "2\n",
      "3\n"
     ]
    }
   ],
   "source": [
    "for key, value in d.items():\n",
    "    print(value)"
   ]
  },
  {
   "cell_type": "code",
   "execution_count": null,
   "id": "15f103b2",
   "metadata": {},
   "outputs": [],
   "source": []
  }
 ],
 "metadata": {
  "kernelspec": {
   "display_name": "Python 3 (ipykernel)",
   "language": "python",
   "name": "python3"
  },
  "language_info": {
   "codemirror_mode": {
    "name": "ipython",
    "version": 3
   },
   "file_extension": ".py",
   "mimetype": "text/x-python",
   "name": "python",
   "nbconvert_exporter": "python",
   "pygments_lexer": "ipython3",
   "version": "3.9.7"
  }
 },
 "nbformat": 4,
 "nbformat_minor": 5
}
