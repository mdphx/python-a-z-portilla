{
 "cells": [
  {
   "cell_type": "markdown",
   "id": "5a70124b",
   "metadata": {},
   "source": [
    "# 5.36 While Loops\n",
    "\n",
    "**Important!** If you accidently get into an infinite loop in Jupyter Notebooks, select Kernel>Restart."
   ]
  },
  {
   "cell_type": "markdown",
   "id": "bb39262f",
   "metadata": {},
   "source": [
    "## Understanding Keywords break, continue, and pass   \n",
    "We can break, continue, and pass keyword in our loops to add additional functionality for various cases. The three statements are defined by:\n",
    "\n",
    "\n",
    "**pass** - Does nothing.   \n",
    "**continue** - Goes to the top of the closest enclosing loop.    \n",
    "**break** - Breaks out of the current closest enclosing loop.   \n",
    " \n"
   ]
  },
  {
   "cell_type": "markdown",
   "id": "005cda50",
   "metadata": {},
   "source": [
    "### The pass Keyword\n",
    "\n",
    "We could start coding the following:\n",
    "\n",
    "    x = [1, 2, 30]\n",
    "\n",
    "    for item in x:\n",
    "        # comment\n",
    "        # will complete block later.\n",
    "\n",
    "    print(\"end of my script\")\n",
    "    \n",
    "If we were to run the code, Python would throw the following error because we haven't completed the while loop:\n",
    "\n",
    "     File   \"/var/folders/tx/p48hcdsd5bb235nmgyj1wx740000gn/T/ipykernel_34990/4017820554.py\", line 5\n",
    "    \n",
    "     IndentationError: expected an indented block\n",
    "\n",
    "To avoid this error, we can use the pass statement in the while loop block."
   ]
  },
  {
   "cell_type": "code",
   "execution_count": 5,
   "id": "969ba44f",
   "metadata": {},
   "outputs": [
    {
     "name": "stdout",
     "output_type": "stream",
     "text": [
      "end of my script\n"
     ]
    }
   ],
   "source": [
    "x = [1, 2, 30]\n",
    "\n",
    "for item in x:\n",
    "    # comment\n",
    "    pass #using the pass statement will allow the code to run without generating an error.\n",
    "\n",
    "print(\"end of my script\")"
   ]
  },
  {
   "cell_type": "markdown",
   "id": "888fa8a0",
   "metadata": {},
   "source": [
    "### The continue Keyword"
   ]
  },
  {
   "cell_type": "code",
   "execution_count": 6,
   "id": "0984f707",
   "metadata": {},
   "outputs": [],
   "source": [
    "mystring = \"Sammy\""
   ]
  },
  {
   "cell_type": "code",
   "execution_count": 7,
   "id": "ec381f6b",
   "metadata": {},
   "outputs": [
    {
     "name": "stdout",
     "output_type": "stream",
     "text": [
      "S\n",
      "a\n",
      "m\n",
      "m\n",
      "y\n"
     ]
    }
   ],
   "source": [
    "for letter in mystring:\n",
    "    print (letter)"
   ]
  },
  {
   "cell_type": "code",
   "execution_count": 9,
   "id": "551f753d",
   "metadata": {},
   "outputs": [
    {
     "name": "stdout",
     "output_type": "stream",
     "text": [
      "S\n",
      "m\n",
      "m\n",
      "y\n"
     ]
    }
   ],
   "source": [
    "for letter in mystring:\n",
    "    if letter == \"a\": # Case where we don't want to print the letter a\n",
    "        continue #Tells program to skip over a and go back and continue with the loop.\n",
    "    print (letter)"
   ]
  },
  {
   "cell_type": "markdown",
   "id": "f506decd",
   "metadata": {},
   "source": [
    "### The break Keyword   \n",
    "The break keyword will break out of a loop when a condition is met."
   ]
  },
  {
   "cell_type": "code",
   "execution_count": 13,
   "id": "dccdf7fd",
   "metadata": {},
   "outputs": [
    {
     "name": "stdout",
     "output_type": "stream",
     "text": [
      "S\n"
     ]
    }
   ],
   "source": [
    "for letter in mystring:\n",
    "    if letter == \"a\": # Case if we run into the letter a we want to break out of the loop\n",
    "        break #Tells program to break out of the loop\n",
    "    print (letter)\n",
    "    \n",
    "#in this example the code only prints the letter \"S\" since \"a\" is the next letter\n",
    "#and we've instructed python to break out of the loop if it finds the letter \"a\""
   ]
  },
  {
   "cell_type": "markdown",
   "id": "3acd176c",
   "metadata": {},
   "source": [
    "## Creating Basic While Loops"
   ]
  },
  {
   "cell_type": "code",
   "execution_count": 2,
   "id": "ba9dd945",
   "metadata": {},
   "outputs": [
    {
     "name": "stdout",
     "output_type": "stream",
     "text": [
      "The current value of x is 0\n",
      "The current value of x is 1\n",
      "The current value of x is 2\n",
      "The current value of x is 3\n",
      "The current value of x is 4\n",
      "X is not less than 5\n"
     ]
    }
   ],
   "source": [
    "x = 0\n",
    "\n",
    "while x < 5:\n",
    "    print(f\"The current value of x is {x}\")\n",
    "    x = x +1\n",
    "else:\n",
    "    print(\"X is not less than 5\")"
   ]
  },
  {
   "cell_type": "markdown",
   "id": "5eb0b178",
   "metadata": {},
   "source": [
    "## Setting Breaks in While Loops\n",
    "\n",
    "In the next example, the system will stop processing the while loop if/when the value passed in is equal to 3."
   ]
  },
  {
   "cell_type": "code",
   "execution_count": 14,
   "id": "d1ca03a2",
   "metadata": {},
   "outputs": [
    {
     "name": "stdout",
     "output_type": "stream",
     "text": [
      "0\n",
      "1\n",
      "2\n"
     ]
    }
   ],
   "source": [
    "x = 0\n",
    "\n",
    "while x < 5:\n",
    "    if x == 3:\n",
    "        break\n",
    "    print(x)\n",
    "    x = x +1 #or x += 1"
   ]
  },
  {
   "cell_type": "code",
   "execution_count": null,
   "id": "9885c097",
   "metadata": {},
   "outputs": [],
   "source": []
  }
 ],
 "metadata": {
  "kernelspec": {
   "display_name": "Python 3 (ipykernel)",
   "language": "python",
   "name": "python3"
  },
  "language_info": {
   "codemirror_mode": {
    "name": "ipython",
    "version": 3
   },
   "file_extension": ".py",
   "mimetype": "text/x-python",
   "name": "python",
   "nbconvert_exporter": "python",
   "pygments_lexer": "ipython3",
   "version": "3.9.7"
  }
 },
 "nbformat": 4,
 "nbformat_minor": 5
}
