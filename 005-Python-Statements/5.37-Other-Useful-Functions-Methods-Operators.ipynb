{
 "cells": [
  {
   "cell_type": "markdown",
   "id": "166f7dbc",
   "metadata": {},
   "source": [
    "# 5.37: Useful Operators in Python\n",
    "\n",
    "This notebook discussed useful functions, methods, and operators in Python. This notes discuss:\n",
    "\n",
    "- range( ) function\n",
    "- enumerate( ) function\n",
    "- zip( ) function\n",
    "- Membership operators (in, not in)\n",
    "- min( ) function\n",
    "- max( ) function\n",
    "- shuffle( ) method\n",
    "- randint( ) method\n",
    "- input( ) function\n"
   ]
  },
  {
   "cell_type": "markdown",
   "id": "b93b30b1",
   "metadata": {},
   "source": [
    "## Using the range( ) Function\n",
    "\n",
    "#### Definition and Usage.  \n",
    "The `range()` function returns a sequence of numbers, starting from 0 by default, increments by 1 (by default), and stops before a specified number.\n",
    "\n",
    "#### Syntax\n",
    "range *(start, stop, step)*\n",
    "\n",
    "#### Parameter Values\n",
    "\n",
    "<table align = \"left\">\n",
    "  <tr>\n",
    "      <th><p style = \"text-align: left; font-size: 14px\">Parameter</p></th>\n",
    "      <th><p style = \"text-align: left; font-size: 14px\">Description</p></th>\n",
    "  </tr>\n",
    "  <tr>\n",
    "      <td><p style = \"text-align: left; font-size: 12px\"><i>start</i></p></td>\n",
    "    <td><p style = \"text-align: left; font-size: 12px\">Optional.  An integer that specifies at which position to start. (Default, 0)</p></td>\n",
    "  </tr>\n",
    "  <tr>\n",
    "      <td><p style = \"text-align: left; font-size: 12px\"><i>stop</i></p></td>\n",
    "    <td><p style = \"text-align: left; font-size: 12px\">Required.  An integer that specifies at which position to stop. <br>The range is generated up to and not inclusvie of this number.</p></td>\n",
    "  </tr>\n",
    "  <tr>\n",
    "      <td><p style = \"text-align: left; font-size: 12px\"><i>step</i></p></td>\n",
    "    <td><p style = \"text-align: left; font-size: 12px\">Optional.  An integer that specifies the incrementation. (Default, 1)</p></td>\n",
    "  </tr>\n",
    "</table>"
   ]
  },
  {
   "cell_type": "markdown",
   "id": "52fbde21",
   "metadata": {},
   "source": [
    "### Generating Ranges of Numbers with Stop Values\n",
    "In the following example we'll use the `range()` function to create a range of numbers from 0 to 10.   \n",
    "If you pass in only one argument to the function, it's interpreted as the stop value."
   ]
  },
  {
   "cell_type": "code",
   "execution_count": 5,
   "id": "0cb57667",
   "metadata": {},
   "outputs": [
    {
     "name": "stdout",
     "output_type": "stream",
     "text": [
      "0\n",
      "1\n",
      "2\n",
      "3\n",
      "4\n",
      "5\n",
      "6\n",
      "7\n",
      "8\n",
      "9\n"
     ]
    }
   ],
   "source": [
    "for num in range(10): #specifies a range from 0 to 10 (not including 10)\n",
    "    print(num) #prints the numbers"
   ]
  },
  {
   "cell_type": "markdown",
   "id": "b74419a6",
   "metadata": {},
   "source": [
    "Notice that the output end at the number nine (9). This is because the number you specify as the stop value is not included in the range. \n",
    "\n",
    "To return the numbers 0 to 10, we have to specify a range value of *11,* as shown here:"
   ]
  },
  {
   "cell_type": "code",
   "execution_count": 9,
   "id": "885c590d",
   "metadata": {},
   "outputs": [
    {
     "name": "stdout",
     "output_type": "stream",
     "text": [
      "0\n",
      "1\n",
      "2\n",
      "3\n",
      "4\n",
      "5\n",
      "6\n",
      "7\n",
      "8\n",
      "9\n",
      "10\n"
     ]
    }
   ],
   "source": [
    "for num in range(11): #specifies a range from 0 to 11 (not including 11)\n",
    "    print(num) #prints the numbers"
   ]
  },
  {
   "cell_type": "markdown",
   "id": "dded5499",
   "metadata": {},
   "source": [
    "### Generating Ranges of Numbers with Start and Stop Values   \n",
    "This example shows how to pass in start and stop values to the `range()` function.   \n",
    "\n",
    "In the example will define *3* as the start value and *11* as the stop value."
   ]
  },
  {
   "cell_type": "code",
   "execution_count": 10,
   "id": "1e252c61",
   "metadata": {},
   "outputs": [
    {
     "name": "stdout",
     "output_type": "stream",
     "text": [
      "3\n",
      "4\n",
      "5\n",
      "6\n",
      "7\n",
      "8\n",
      "9\n",
      "10\n"
     ]
    }
   ],
   "source": [
    "for num in range(3, 11):\n",
    "    print(num)"
   ]
  },
  {
   "cell_type": "markdown",
   "id": "2fecd666",
   "metadata": {},
   "source": [
    "### Geneating Ranges of Numbers with Start, Stop and Step Arguments   \n",
    "In this example we pass in start, stop and step arguments to the range() function.   \n",
    "\n",
    "We specify a start value of *0,* and stop value of *11,* and a step value of *2.* The output should be even numbers from 0 to 10."
   ]
  },
  {
   "cell_type": "code",
   "execution_count": 12,
   "id": "c9900140",
   "metadata": {},
   "outputs": [
    {
     "name": "stdout",
     "output_type": "stream",
     "text": [
      "0\n",
      "2\n",
      "4\n",
      "6\n",
      "8\n",
      "10\n"
     ]
    }
   ],
   "source": [
    "for num in range(0, 11, 2):\n",
    "    print(num)"
   ]
  },
  {
   "cell_type": "markdown",
   "id": "7f76c1a8",
   "metadata": {},
   "source": [
    "### Creating Lists from the range( ) Function \n",
    "\n",
    "To create a list from the `range()` function we can cast to a list as shown here:"
   ]
  },
  {
   "cell_type": "code",
   "execution_count": 15,
   "id": "ca335ecc",
   "metadata": {},
   "outputs": [
    {
     "name": "stdout",
     "output_type": "stream",
     "text": [
      "[0, 2, 4, 6, 8, 10]\n"
     ]
    }
   ],
   "source": [
    "my_casted_list = list(range(0, 11, 2))\n",
    "print(my_casted_list)"
   ]
  },
  {
   "cell_type": "markdown",
   "id": "0def035d",
   "metadata": {},
   "source": [
    "## Using the enumerate ( ) Function"
   ]
  },
  {
   "cell_type": "markdown",
   "id": "423095de",
   "metadata": {},
   "source": [
    "### Definition and Usage.\n",
    "Takes an iterable object and for each item or element in the o object, returns an index/counter and an item/element.\n",
    "\n",
    "### Syntax\n",
    "enumerate(iterator)\n",
    "\n",
    "### Use Case\n",
    "As an example, the following code is very common in programming to use some sort of counter to keep track of how many times you iterate through a loop and/or the index position:"
   ]
  },
  {
   "cell_type": "code",
   "execution_count": 17,
   "id": "35640334",
   "metadata": {},
   "outputs": [
    {
     "name": "stdout",
     "output_type": "stream",
     "text": [
      "At index 0 the letter is a\n",
      "At index 1 the letter is b\n",
      "At index 2 the letter is c\n",
      "At index 3 the letter is d\n",
      "At index 4 the letter is e\n"
     ]
    }
   ],
   "source": [
    "index_count = 0\n",
    "\n",
    "for letter in \"abcde\":\n",
    "        print(\"At index {} the letter is {}\".format(index_count, letter))\n",
    "        index_count += 1"
   ]
  },
  {
   "cell_type": "markdown",
   "id": "2c9db255",
   "metadata": {},
   "source": [
    "Another example..."
   ]
  },
  {
   "cell_type": "code",
   "execution_count": 54,
   "id": "80b93e8e",
   "metadata": {},
   "outputs": [
    {
     "name": "stdout",
     "output_type": "stream",
     "text": [
      "a\n",
      "b\n",
      "c\n",
      "d\n",
      "e\n"
     ]
    }
   ],
   "source": [
    "index_count = 0\n",
    "word = \"abcde\"\n",
    "\n",
    "for letter in word:\n",
    "    print(word[index_count])\n",
    "    index_count += 1"
   ]
  },
  {
   "cell_type": "markdown",
   "id": "e3969e09",
   "metadata": {},
   "source": [
    "### Using enumerate ( ) to Add Counters to Strings   \n",
    "In the following example we use the `enumerate()` function to on a string to add counters/index values to each item in the string. The return result is a list of tuples."
   ]
  },
  {
   "cell_type": "code",
   "execution_count": 55,
   "id": "25f74dfb",
   "metadata": {},
   "outputs": [
    {
     "name": "stdout",
     "output_type": "stream",
     "text": [
      "(0, 'a')\n",
      "(1, 'b')\n",
      "(2, 'c')\n",
      "(3, 'd')\n",
      "(4, 'e')\n"
     ]
    }
   ],
   "source": [
    "word = \"abcde\"\n",
    "\n",
    "for item in enumerate(word):\n",
    "    print(item)"
   ]
  },
  {
   "cell_type": "markdown",
   "id": "7f56ac7a",
   "metadata": {},
   "source": [
    "## Using the zip ( ) Function   \n",
    "The `zip()` function is the opposite of the `enumerate()` function, and zips together two or more iterable objects and return an iterator of tuples."
   ]
  },
  {
   "cell_type": "code",
   "execution_count": 56,
   "id": "64fc87fa",
   "metadata": {},
   "outputs": [
    {
     "name": "stdout",
     "output_type": "stream",
     "text": [
      "(1, 'a')\n",
      "(2, 'b')\n",
      "(3, 'c')\n"
     ]
    }
   ],
   "source": [
    "mylist1=[1,2,3]\n",
    "mylist2=[\"a\", \"b\", \"c\"]\n",
    "\n",
    "for item in zip(mylist1, mylist2):\n",
    "    print(item)"
   ]
  },
  {
   "cell_type": "markdown",
   "id": "54ff479e",
   "metadata": {},
   "source": [
    "If the passed iterators have different lengths, no error is thrown. Instead, the iterator with the least items decides the length of the new iterator. \n",
    "\n",
    "For example:"
   ]
  },
  {
   "cell_type": "code",
   "execution_count": 57,
   "id": "bcb1d327",
   "metadata": {},
   "outputs": [
    {
     "name": "stdout",
     "output_type": "stream",
     "text": [
      "(1, 'a')\n",
      "(2, 'b')\n",
      "(3, 'c')\n"
     ]
    }
   ],
   "source": [
    "mylist3=[1,2,3,4,5,6]\n",
    "mylist4=[\"a\", \"b\", \"c\"]\n",
    "\n",
    "for item in zip(mylist3, mylist4):\n",
    "    print(item)"
   ]
  },
  {
   "cell_type": "markdown",
   "id": "a405f8c6",
   "metadata": {},
   "source": [
    "### Casting zip() Function Return Values to Lists   \n",
    "In this example we cast the return values from the `zip()`function to a list of tuples."
   ]
  },
  {
   "cell_type": "code",
   "execution_count": 58,
   "id": "f365c55d",
   "metadata": {},
   "outputs": [],
   "source": [
    "#given\n",
    "mylist5=[1,2,3,4,5,6]\n",
    "mylist6=[\"a\", \"b\", \"c\"]\n",
    "mylist7=[100, 200, 300]"
   ]
  },
  {
   "cell_type": "code",
   "execution_count": 59,
   "id": "f7fd7087",
   "metadata": {},
   "outputs": [
    {
     "data": {
      "text/plain": [
       "[(1, 'a', 100), (2, 'b', 200), (3, 'c', 300)]"
      ]
     },
     "execution_count": 59,
     "metadata": {},
     "output_type": "execute_result"
    }
   ],
   "source": [
    "list(zip(mylist5,mylist6,mylist7))\n",
    "    "
   ]
  },
  {
   "cell_type": "markdown",
   "id": "491358b2",
   "metadata": {},
   "source": [
    "### Unpacking zip() Function Return Values   \n",
    "In this example we unpack the return values from the `zip()`function."
   ]
  },
  {
   "cell_type": "code",
   "execution_count": 60,
   "id": "77991281",
   "metadata": {},
   "outputs": [
    {
     "name": "stdout",
     "output_type": "stream",
     "text": [
      "100\n",
      "200\n",
      "300\n"
     ]
    }
   ],
   "source": [
    "#given\n",
    "mylist5=[1,2,3,4,5,6]\n",
    "mylist6=[\"a\", \"b\", \"c\"]\n",
    "mylist7=[100, 200, 300]\n",
    "\n",
    "for a, b, c in zip(mylist5, mylist6, mylist7):\n",
    "    print(c)"
   ]
  },
  {
   "cell_type": "markdown",
   "id": "59727e7b",
   "metadata": {},
   "source": [
    "## Using Membership Operators \n",
    "Membership operators are used to test if a sequence is presented in an object:\n",
    "<table align = \"left\">\n",
    "  <tr>\n",
    "      <th><p style = \"text-align: left; font-size: 14px\">Operator</p></th>\n",
    "      <th><p style = \"text-align: left; font-size: 14px\">Description</p></th>\n",
    "  </tr>\n",
    "  <tr>\n",
    "      <td><p style = \"text-align: left; font-size: 12px\"><i>in</i></p></td>\n",
    "    <td><p style = \"text-align: left; font-size: 12px\">Returns True if a sequence with the specified value is present in the object</p></td>\n",
    "  </tr>\n",
    "  <tr>\n",
    "      <td><p style = \"text-align: left; font-size: 12px\"><i>not in</i></p></td>\n",
    "    <td><p style = \"text-align: left; font-size: 12px\">Returns True if a sequence with the specified value is not present in the object</p></td>\n",
    "  </tr>\n",
    "</table>"
   ]
  },
  {
   "cell_type": "markdown",
   "id": "6a349cd9",
   "metadata": {},
   "source": [
    "### Using the in Membership Operator "
   ]
  },
  {
   "cell_type": "code",
   "execution_count": 61,
   "id": "c59e4fc8",
   "metadata": {},
   "outputs": [
    {
     "data": {
      "text/plain": [
       "False"
      ]
     },
     "execution_count": 61,
     "metadata": {},
     "output_type": "execute_result"
    }
   ],
   "source": [
    "#Example 1\n",
    "\n",
    "\"x\" in [1, 2, 3]"
   ]
  },
  {
   "cell_type": "code",
   "execution_count": 35,
   "id": "5c3baed6",
   "metadata": {},
   "outputs": [
    {
     "data": {
      "text/plain": [
       "True"
      ]
     },
     "execution_count": 35,
     "metadata": {},
     "output_type": "execute_result"
    }
   ],
   "source": [
    "#Example 2\n",
    "\"x\" in [\"x\", \"y\", \"z\"]"
   ]
  },
  {
   "cell_type": "code",
   "execution_count": 62,
   "id": "8bf8c3ca",
   "metadata": {},
   "outputs": [
    {
     "data": {
      "text/plain": [
       "True"
      ]
     },
     "execution_count": 62,
     "metadata": {},
     "output_type": "execute_result"
    }
   ],
   "source": [
    "#Example 3\n",
    "dictionary1={\"mykey\":345}\n",
    "\n",
    "345 in dictionary1.values()"
   ]
  },
  {
   "cell_type": "markdown",
   "id": "f2c02c6d",
   "metadata": {},
   "source": [
    "### Using the not in Membership Operator"
   ]
  },
  {
   "cell_type": "code",
   "execution_count": 63,
   "id": "b76366b0",
   "metadata": {},
   "outputs": [
    {
     "data": {
      "text/plain": [
       "True"
      ]
     },
     "execution_count": 63,
     "metadata": {},
     "output_type": "execute_result"
    }
   ],
   "source": [
    "#Example 1\n",
    "\n",
    "\"x\" not in [1, 2, 3]"
   ]
  },
  {
   "cell_type": "code",
   "execution_count": 64,
   "id": "4d587d24",
   "metadata": {},
   "outputs": [
    {
     "data": {
      "text/plain": [
       "False"
      ]
     },
     "execution_count": 64,
     "metadata": {},
     "output_type": "execute_result"
    }
   ],
   "source": [
    "#Example 2\n",
    "\"x\" not in [\"x\", \"y\", \"z\"]"
   ]
  },
  {
   "cell_type": "code",
   "execution_count": 67,
   "id": "e1f3be70",
   "metadata": {},
   "outputs": [
    {
     "data": {
      "text/plain": [
       "False"
      ]
     },
     "execution_count": 67,
     "metadata": {},
     "output_type": "execute_result"
    }
   ],
   "source": [
    "#Example 3\n",
    "dictionary1={\"mykey\":345}\n",
    "\n",
    "345 not in dictionary1.values()"
   ]
  },
  {
   "cell_type": "markdown",
   "id": "a71cb7ae",
   "metadata": {},
   "source": [
    "## Using the min( ) Function and the max( ) Function\n",
    "\n",
    "- `min()`- returns the lowest value in a list.   \n",
    "- `max()`- returns the highest value in a list."
   ]
  },
  {
   "cell_type": "code",
   "execution_count": 68,
   "id": "461da58e",
   "metadata": {},
   "outputs": [],
   "source": [
    "mylist8=[10, 20, 30, 40, 100]"
   ]
  },
  {
   "cell_type": "code",
   "execution_count": 69,
   "id": "89879b6f",
   "metadata": {},
   "outputs": [
    {
     "data": {
      "text/plain": [
       "10"
      ]
     },
     "execution_count": 69,
     "metadata": {},
     "output_type": "execute_result"
    }
   ],
   "source": [
    "min(mylist8)"
   ]
  },
  {
   "cell_type": "code",
   "execution_count": 70,
   "id": "97a84efa",
   "metadata": {},
   "outputs": [
    {
     "data": {
      "text/plain": [
       "100"
      ]
     },
     "execution_count": 70,
     "metadata": {},
     "output_type": "execute_result"
    }
   ],
   "source": [
    "max(mylist8)"
   ]
  },
  {
   "cell_type": "markdown",
   "id": "d64f71e4",
   "metadata": {},
   "source": [
    "## Using the Random Module\n",
    "\n",
    "Python's built-in `random` module contains a set of methods you can use to make random numbers. In this notebook, we discuss these methods:\n",
    "\n",
    "- `shuffle()` - Shuffles the sequence of items in an object. \n",
    "- `randint()` - Returns a random number within a given range.\n",
    "\n"
   ]
  },
  {
   "cell_type": "markdown",
   "id": "6e8915dd",
   "metadata": {},
   "source": [
    "### Using the shuffle( ) Method   \n",
    "The `shuffle()` method randomly shuffles items in an object. It is an in-place method."
   ]
  },
  {
   "cell_type": "markdown",
   "id": "9c4edbfe",
   "metadata": {},
   "source": [
    "#### Importing the Method\n",
    "\n",
    "Before we can invoke the method we need to import it from the Random module."
   ]
  },
  {
   "cell_type": "code",
   "execution_count": 73,
   "id": "c65b551f",
   "metadata": {},
   "outputs": [],
   "source": [
    "from random import shuffle #import the shuffle() method from the random module."
   ]
  },
  {
   "cell_type": "markdown",
   "id": "8ecf5447",
   "metadata": {},
   "source": [
    "Next, we need a list of items to shuffle. We'll create a list using the `range()` function discussed earlier in the course."
   ]
  },
  {
   "cell_type": "code",
   "execution_count": 47,
   "id": "c17bf6f2",
   "metadata": {},
   "outputs": [
    {
     "name": "stdout",
     "output_type": "stream",
     "text": [
      "[0, 1, 2, 3, 4, 5, 6, 7, 8, 9, 10]\n"
     ]
    }
   ],
   "source": [
    "#Create a list from 0-10\n",
    "\n",
    "mylist9=list(range(11))\n",
    "print(mylist9)"
   ]
  },
  {
   "cell_type": "markdown",
   "id": "4a981c04",
   "metadata": {},
   "source": [
    "Then we can randomly shuffle the list by invoking the `shuffle()`method. \n",
    "\n",
    "To invoke the method, we'll pass in mylist9 as an argument."
   ]
  },
  {
   "cell_type": "code",
   "execution_count": 74,
   "id": "ab54e309",
   "metadata": {},
   "outputs": [],
   "source": [
    "#Invoking the shuffle() method and passing in mylist9 as an argument.\n",
    "\n",
    "shuffle(mylist9)"
   ]
  },
  {
   "cell_type": "markdown",
   "id": "acc1b0d5",
   "metadata": {},
   "source": [
    "And because `shuffle()` is an in-place method we can't assign the result of the method invocation to a variable. If we try to do so, the system returns *None* as shown here."
   ]
  },
  {
   "cell_type": "code",
   "execution_count": 75,
   "id": "4062991c",
   "metadata": {},
   "outputs": [
    {
     "name": "stdout",
     "output_type": "stream",
     "text": [
      "None\n"
     ]
    }
   ],
   "source": [
    "shuffled_list=shuffle(mylist9)\n",
    "print(shuffled_list)"
   ]
  },
  {
   "cell_type": "markdown",
   "id": "53385e9c",
   "metadata": {},
   "source": [
    "#### Viewing the Results of the Method Invocation\n",
    "\n",
    "To view the result of the method invocation we can print the list after the method invocation."
   ]
  },
  {
   "cell_type": "code",
   "execution_count": 76,
   "id": "e972f0ac",
   "metadata": {},
   "outputs": [
    {
     "name": "stdout",
     "output_type": "stream",
     "text": [
      "[6, 8, 7, 2, 9, 0, 1, 5, 4, 10, 3]\n"
     ]
    }
   ],
   "source": [
    "shuffle(mylist9)\n",
    "print(mylist9)"
   ]
  },
  {
   "cell_type": "markdown",
   "id": "9bb29fb3",
   "metadata": {},
   "source": [
    "#### Assigning the Invocation Results to Variables\n",
    "\n",
    "To assign the result of the method invocation to a new variable, assign the original variable equal to a new variable."
   ]
  },
  {
   "cell_type": "code",
   "execution_count": 77,
   "id": "883a9b75",
   "metadata": {},
   "outputs": [
    {
     "name": "stdout",
     "output_type": "stream",
     "text": [
      "[6, 8, 7, 2, 9, 0, 1, 5, 4, 10, 3]\n"
     ]
    }
   ],
   "source": [
    "shuffled_list=mylist9\n",
    "print(shuffled_list)"
   ]
  },
  {
   "cell_type": "markdown",
   "id": "c674e712",
   "metadata": {},
   "source": [
    "### Using the randint( ) Method\n",
    "\n",
    "Returns a random number between a given range.\n",
    "\n",
    "#### Syntax\n",
    "`random.randint(start, stop)` \n",
    "\n",
    "The start and stop values are included in the range of possible return values."
   ]
  },
  {
   "cell_type": "markdown",
   "id": "bbba149c",
   "metadata": {},
   "source": [
    "#### Importing the randint( ) Method"
   ]
  },
  {
   "cell_type": "code",
   "execution_count": 78,
   "id": "5e147e48",
   "metadata": {},
   "outputs": [],
   "source": [
    "from random import randint #import the randint() method from the random module."
   ]
  },
  {
   "cell_type": "markdown",
   "id": "280b683a",
   "metadata": {},
   "source": [
    "#### Invoking the randint( ) Method"
   ]
  },
  {
   "cell_type": "code",
   "execution_count": 79,
   "id": "753852cd",
   "metadata": {},
   "outputs": [
    {
     "data": {
      "text/plain": [
       "28"
      ]
     },
     "execution_count": 79,
     "metadata": {},
     "output_type": "execute_result"
    }
   ],
   "source": [
    "randint(0,100) #Generating a random number between 0 and 100."
   ]
  },
  {
   "cell_type": "markdown",
   "id": "191c7f91",
   "metadata": {},
   "source": [
    "#### Assigning the Return Value to Variable"
   ]
  },
  {
   "cell_type": "code",
   "execution_count": 80,
   "id": "e9e99d61",
   "metadata": {},
   "outputs": [],
   "source": [
    "my_random_number=randint(100, 1000)"
   ]
  },
  {
   "cell_type": "code",
   "execution_count": 81,
   "id": "26a9e95b",
   "metadata": {},
   "outputs": [
    {
     "data": {
      "text/plain": [
       "445"
      ]
     },
     "execution_count": 81,
     "metadata": {},
     "output_type": "execute_result"
    }
   ],
   "source": [
    "my_random_number"
   ]
  },
  {
   "cell_type": "markdown",
   "id": "aac2754d",
   "metadata": {},
   "source": [
    "## Using the Input Method\n",
    "\n",
    "#### Definition \n",
    "\n",
    "The built-in `input()` function allows user input.\n",
    "\n",
    "#### Syntax\n",
    "\n",
    "`input(prompt)`\n",
    "\n",
    "#### Comment \n",
    "Accepts everything entered as a string. However, you can use casting to convert the string to a different data type.\n",
    "\n"
   ]
  },
  {
   "cell_type": "markdown",
   "id": "a836f856",
   "metadata": {},
   "source": [
    "### Example 1   \n",
    "In the following example the user is prompted to enter a number."
   ]
  },
  {
   "cell_type": "code",
   "execution_count": 82,
   "id": "664e9eaa",
   "metadata": {},
   "outputs": [
    {
     "name": "stdout",
     "output_type": "stream",
     "text": [
      "Enter a number here: 50\n"
     ]
    },
    {
     "data": {
      "text/plain": [
       "'50'"
      ]
     },
     "execution_count": 82,
     "metadata": {},
     "output_type": "execute_result"
    }
   ],
   "source": [
    "input(\"Enter a number here: \")"
   ]
  },
  {
   "cell_type": "markdown",
   "id": "24450c05",
   "metadata": {},
   "source": [
    "The result returned in a string. We can cast the result to convert the string to an integer:"
   ]
  },
  {
   "cell_type": "markdown",
   "id": "f95b59ef",
   "metadata": {},
   "source": [
    "### Example 2"
   ]
  },
  {
   "cell_type": "code",
   "execution_count": 89,
   "id": "9f82d1de",
   "metadata": {},
   "outputs": [
    {
     "name": "stdout",
     "output_type": "stream",
     "text": [
      "What's your favorite number? 365\n"
     ]
    }
   ],
   "source": [
    "result = input(\"What's your favorite number? \")"
   ]
  },
  {
   "cell_type": "code",
   "execution_count": 94,
   "id": "68b2672c",
   "metadata": {},
   "outputs": [
    {
     "data": {
      "text/plain": [
       "'365'"
      ]
     },
     "execution_count": 94,
     "metadata": {},
     "output_type": "execute_result"
    }
   ],
   "source": [
    "result"
   ]
  },
  {
   "cell_type": "code",
   "execution_count": 90,
   "id": "3e50995e",
   "metadata": {},
   "outputs": [
    {
     "data": {
      "text/plain": [
       "str"
      ]
     },
     "execution_count": 90,
     "metadata": {},
     "output_type": "execute_result"
    }
   ],
   "source": [
    "#Check the data type of the result\n",
    "type(result)"
   ]
  },
  {
   "cell_type": "markdown",
   "id": "ec8d97f4",
   "metadata": {},
   "source": [
    "Now we can use casting to convert the result to an integer. We need to store the casted value in a new variable."
   ]
  },
  {
   "cell_type": "code",
   "execution_count": 106,
   "id": "5a1340e7",
   "metadata": {},
   "outputs": [],
   "source": [
    "result2 = int(result)"
   ]
  },
  {
   "cell_type": "code",
   "execution_count": 107,
   "id": "ede3cf2c",
   "metadata": {},
   "outputs": [
    {
     "data": {
      "text/plain": [
       "365"
      ]
     },
     "execution_count": 107,
     "metadata": {},
     "output_type": "execute_result"
    }
   ],
   "source": [
    "result2"
   ]
  },
  {
   "cell_type": "code",
   "execution_count": 108,
   "id": "6dce2313",
   "metadata": {},
   "outputs": [
    {
     "data": {
      "text/plain": [
       "int"
      ]
     },
     "execution_count": 108,
     "metadata": {},
     "output_type": "execute_result"
    }
   ],
   "source": [
    "type(result2)"
   ]
  },
  {
   "cell_type": "code",
   "execution_count": null,
   "id": "db71958a",
   "metadata": {},
   "outputs": [],
   "source": []
  }
 ],
 "metadata": {
  "kernelspec": {
   "display_name": "Python 3 (ipykernel)",
   "language": "python",
   "name": "python3"
  },
  "language_info": {
   "codemirror_mode": {
    "name": "ipython",
    "version": 3
   },
   "file_extension": ".py",
   "mimetype": "text/x-python",
   "name": "python",
   "nbconvert_exporter": "python",
   "pygments_lexer": "ipython3",
   "version": "3.9.7"
  }
 },
 "nbformat": 4,
 "nbformat_minor": 5
}
