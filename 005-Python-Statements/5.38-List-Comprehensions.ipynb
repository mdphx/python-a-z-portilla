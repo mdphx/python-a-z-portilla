{
 "cells": [
  {
   "cell_type": "markdown",
   "id": "8994fe24",
   "metadata": {},
   "source": [
    "# 5.38: List Comprehensions\n",
    "\n",
    "List comprehensions are a unique way of quickly creating lists with Python.\n"
   ]
  },
  {
   "cell_type": "markdown",
   "id": "7b49e558",
   "metadata": {},
   "source": [
    "Here we have a string and we want to make a list of every character in the string."
   ]
  },
  {
   "cell_type": "code",
   "execution_count": 3,
   "id": "f01ea29f",
   "metadata": {},
   "outputs": [
    {
     "data": {
      "text/plain": [
       "['h', 'e', 'l', 'l', 'o']"
      ]
     },
     "execution_count": 3,
     "metadata": {},
     "output_type": "execute_result"
    }
   ],
   "source": [
    "mystring = \"hello\"\n",
    "\n",
    "mylist = []\n",
    "\n",
    "for letter in mystring:\n",
    "    mylist.append(letter)\n",
    "\n",
    "mylist"
   ]
  },
  {
   "cell_type": "markdown",
   "id": "08d88495",
   "metadata": {},
   "source": [
    "A more efficient way to do this is to use list comprehension."
   ]
  },
  {
   "cell_type": "code",
   "execution_count": 4,
   "id": "917b2d87",
   "metadata": {},
   "outputs": [
    {
     "data": {
      "text/plain": [
       "['h', 'e', 'l', 'l', 'o']"
      ]
     },
     "execution_count": 4,
     "metadata": {},
     "output_type": "execute_result"
    }
   ],
   "source": [
    "mylist = [letter for letter in mystring]\n",
    "\n",
    "#This is a flattened out for loop.\n",
    "mylist"
   ]
  },
  {
   "cell_type": "code",
   "execution_count": null,
   "id": "a5fbf499",
   "metadata": {},
   "outputs": [],
   "source": []
  }
 ],
 "metadata": {
  "kernelspec": {
   "display_name": "Python 3 (ipykernel)",
   "language": "python",
   "name": "python3"
  },
  "language_info": {
   "codemirror_mode": {
    "name": "ipython",
    "version": 3
   },
   "file_extension": ".py",
   "mimetype": "text/x-python",
   "name": "python",
   "nbconvert_exporter": "python",
   "pygments_lexer": "ipython3",
   "version": "3.9.7"
  }
 },
 "nbformat": 4,
 "nbformat_minor": 5
}
