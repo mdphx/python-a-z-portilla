{
 "cells": [
  {
   "cell_type": "markdown",
   "id": "cfb5da40",
   "metadata": {},
   "source": [
    "# 3.14: Variable Assignment"
   ]
  },
  {
   "cell_type": "markdown",
   "id": "9390202c",
   "metadata": {},
   "source": [
    "We assign data types to variables to easily access them in our code."
   ]
  },
  {
   "cell_type": "markdown",
   "id": "570cdec4",
   "metadata": {},
   "source": [
    "## Rules for Variables Names in Python"
   ]
  },
  {
   "cell_type": "markdown",
   "id": "2ddcc41a",
   "metadata": {},
   "source": [
    "- Names cannot start with a number.\n",
    "- Best practice is to use lowercase names.\n",
    "- Spaces are not allowed. Use an underscore to insert spaces.\n",
    "\n",
    "In addition you cannot use any of these symbols in variable names:\n",
    "\n",
    "|                  |                   |     |\n",
    "|:--------------------------|:--------------------------|:-----------|\n",
    "| - colon                    | - question mark            | - dollar    |\n",
    "| - greater than / less than | - pipe                     | - percent   |\n",
    "| - plus                     | - open paren / close paren | - caret     |\n",
    "| - single quotes            | - hypen                    | - ampersand |\n",
    "| - double quotes            | - exclamation              | - asterisk  |\n",
    "| - forward slash            | - At symbol                | - tilde     |\n",
    "| - back slash               | - pound                    |           |"
   ]
  },
  {
   "cell_type": "markdown",
   "id": "c513cd53",
   "metadata": {},
   "source": [
    "## Dynamic Typing  \n",
    "\n",
    "Python uses **dynamic typing** which means you can reasign variables to different data types."
   ]
  },
  {
   "cell_type": "markdown",
   "id": "a6a61015",
   "metadata": {},
   "source": [
    "## type ( ) function  \n",
    "\n",
    "Use the Python type ( ) function to learn the data type of a variable. The function takes a variable name as a parameter and returns the varible type.\n",
    "\n",
    "Let's create the following variables and assigned values:\n",
    "1. a = 5.\n",
    "2. lname = \"Mozart\"\n",
    "3. balance = 12.72\n",
    "4. fruit = [\"apple\", \"banana\", \"cherry\"]\n",
    "\n",
    "After creating each variable we'll pass in the variable name as an argument to the type ( ) function to confirm the variable's data type."
   ]
  },
  {
   "cell_type": "code",
   "execution_count": 1,
   "id": "aa7ff49c",
   "metadata": {},
   "outputs": [],
   "source": [
    "a=5"
   ]
  },
  {
   "cell_type": "code",
   "execution_count": 2,
   "id": "e6602e2e",
   "metadata": {},
   "outputs": [
    {
     "data": {
      "text/plain": [
       "int"
      ]
     },
     "execution_count": 2,
     "metadata": {},
     "output_type": "execute_result"
    }
   ],
   "source": [
    "type(a)"
   ]
  },
  {
   "cell_type": "code",
   "execution_count": 4,
   "id": "1d97ebc4",
   "metadata": {},
   "outputs": [],
   "source": [
    "lname=\"Mozart\""
   ]
  },
  {
   "cell_type": "code",
   "execution_count": 5,
   "id": "3076d1bc",
   "metadata": {},
   "outputs": [
    {
     "data": {
      "text/plain": [
       "str"
      ]
     },
     "execution_count": 5,
     "metadata": {},
     "output_type": "execute_result"
    }
   ],
   "source": [
    "type(lname)"
   ]
  },
  {
   "cell_type": "code",
   "execution_count": 6,
   "id": "a069487e",
   "metadata": {},
   "outputs": [],
   "source": [
    "balance=12.72"
   ]
  },
  {
   "cell_type": "code",
   "execution_count": 7,
   "id": "0195d5e6",
   "metadata": {},
   "outputs": [
    {
     "data": {
      "text/plain": [
       "float"
      ]
     },
     "execution_count": 7,
     "metadata": {},
     "output_type": "execute_result"
    }
   ],
   "source": [
    "type(balance)"
   ]
  },
  {
   "cell_type": "code",
   "execution_count": 8,
   "id": "dbe7c920",
   "metadata": {},
   "outputs": [],
   "source": [
    "fruit=[\"apple\", \"banana\", \"cherry\"]"
   ]
  },
  {
   "cell_type": "code",
   "execution_count": 9,
   "id": "19521bcb",
   "metadata": {},
   "outputs": [
    {
     "data": {
      "text/plain": [
       "list"
      ]
     },
     "execution_count": 9,
     "metadata": {},
     "output_type": "execute_result"
    }
   ],
   "source": [
    "type(fruit)"
   ]
  },
  {
   "cell_type": "markdown",
   "id": "8c1e9c35",
   "metadata": {},
   "source": [
    "## Performing Logic with Variable Names\n",
    "\n",
    "Using variables can make code more readable and we can perform logic with variable names. For example can assign values to variables to calculate income taxes.\n"
   ]
  },
  {
   "cell_type": "code",
   "execution_count": 10,
   "id": "c7dc3eac",
   "metadata": {},
   "outputs": [],
   "source": [
    "myIncome=100\n",
    "\n",
    "taxRate=0.1\n",
    "\n",
    "myTaxes = myIncome * taxRate"
   ]
  },
  {
   "cell_type": "code",
   "execution_count": 11,
   "id": "815a26ec",
   "metadata": {},
   "outputs": [
    {
     "data": {
      "text/plain": [
       "10.0"
      ]
     },
     "execution_count": 11,
     "metadata": {},
     "output_type": "execute_result"
    }
   ],
   "source": [
    "myTaxes"
   ]
  },
  {
   "cell_type": "code",
   "execution_count": null,
   "id": "44513f65",
   "metadata": {},
   "outputs": [],
   "source": []
  }
 ],
 "metadata": {
  "kernelspec": {
   "display_name": "Python 3 (ipykernel)",
   "language": "python",
   "name": "python3"
  },
  "language_info": {
   "codemirror_mode": {
    "name": "ipython",
    "version": 3
   },
   "file_extension": ".py",
   "mimetype": "text/x-python",
   "name": "python",
   "nbconvert_exporter": "python",
   "pygments_lexer": "ipython3",
   "version": "3.9.7"
  }
 },
 "nbformat": 4,
 "nbformat_minor": 5
}
