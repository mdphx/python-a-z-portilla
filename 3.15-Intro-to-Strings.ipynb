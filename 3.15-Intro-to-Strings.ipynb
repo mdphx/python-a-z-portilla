{
 "cells": [
  {
   "cell_type": "markdown",
   "id": "75c791e2",
   "metadata": {},
   "source": [
    "# 3.15: Introduction to Strings\n"
   ]
  },
  {
   "cell_type": "markdown",
   "id": "cd117206",
   "metadata": {},
   "source": [
    "Strings are sequences of characters encased in either single or double quotes.\n",
    "\n",
    "Every character in a string has an index position assigned to it. Indexing starts at zero."
   ]
  },
  {
   "cell_type": "markdown",
   "id": "5f873af1",
   "metadata": {},
   "source": [
    "<img src=\"images/reverse-indexing-2.jpg\" align=left>"
   ]
  },
  {
   "cell_type": "markdown",
   "id": "781612db",
   "metadata": {},
   "source": [
    "We can access string characters by using bracket notation and specify the index for the character we want to return or manipulate."
   ]
  },
  {
   "cell_type": "markdown",
   "id": "22571cce",
   "metadata": {},
   "source": [
    "## Accessing String Characters Using Indexing and Bracket Notation"
   ]
  },
  {
   "cell_type": "markdown",
   "id": "30d10693",
   "metadata": {},
   "source": [
    "To access a character in a string variable specify the index of the character to access in brackets after the variable name."
   ]
  },
  {
   "cell_type": "markdown",
   "id": "b5f5696d",
   "metadata": {},
   "source": [
    "### Setup for Notes and Exercises in this Section\n",
    "First, let's declare a string variable, set it equal to some value, return the data type, and return the string length."
   ]
  },
  {
   "cell_type": "code",
   "execution_count": 6,
   "id": "f98a0ec3",
   "metadata": {},
   "outputs": [],
   "source": [
    "myString = \"flower\" #declare the variable myString and intialize it to the string \"flower\""
   ]
  },
  {
   "cell_type": "code",
   "execution_count": 3,
   "id": "8916fda8",
   "metadata": {},
   "outputs": [
    {
     "data": {
      "text/plain": [
       "'flower'"
      ]
     },
     "execution_count": 3,
     "metadata": {},
     "output_type": "execute_result"
    }
   ],
   "source": [
    "myString #return the value of the variable myString"
   ]
  },
  {
   "cell_type": "code",
   "execution_count": 11,
   "id": "07433d22",
   "metadata": {},
   "outputs": [
    {
     "data": {
      "text/plain": [
       "str"
      ]
     },
     "execution_count": 11,
     "metadata": {},
     "output_type": "execute_result"
    }
   ],
   "source": [
    "type(myString) #invoke the type() function to return the data type of the variable "
   ]
  },
  {
   "cell_type": "code",
   "execution_count": 10,
   "id": "aebf890f",
   "metadata": {
    "scrolled": true
   },
   "outputs": [
    {
     "data": {
      "text/plain": [
       "6"
      ]
     },
     "execution_count": 10,
     "metadata": {},
     "output_type": "execute_result"
    }
   ],
   "source": [
    "len(myString) #return the length of the variable myString"
   ]
  },
  {
   "cell_type": "markdown",
   "id": "e4e247d9",
   "metadata": {},
   "source": [
    "### Using Indexing and Bracket Notation"
   ]
  },
  {
   "cell_type": "code",
   "execution_count": 13,
   "id": "4b1c3efc",
   "metadata": {},
   "outputs": [
    {
     "data": {
      "text/plain": [
       "'flower'"
      ]
     },
     "execution_count": 13,
     "metadata": {},
     "output_type": "execute_result"
    }
   ],
   "source": [
    "myString #returning the value of the myString variable"
   ]
  },
  {
   "cell_type": "code",
   "execution_count": 12,
   "id": "19ec4d33",
   "metadata": {},
   "outputs": [
    {
     "data": {
      "text/plain": [
       "'w'"
      ]
     },
     "execution_count": 12,
     "metadata": {},
     "output_type": "execute_result"
    }
   ],
   "source": [
    "myString[3] #Accessing the fourth character (w) in the myString variable"
   ]
  },
  {
   "cell_type": "markdown",
   "id": "af6681ec",
   "metadata": {},
   "source": [
    "### Using Reverse Indexing and Bracket Notation\n",
    "We can access string characters from the end of a string by accessing its negative index, which begins at -1."
   ]
  },
  {
   "cell_type": "code",
   "execution_count": 14,
   "id": "382ebad8",
   "metadata": {},
   "outputs": [
    {
     "data": {
      "text/plain": [
       "'r'"
      ]
     },
     "execution_count": 14,
     "metadata": {},
     "output_type": "execute_result"
    }
   ],
   "source": [
    "myString[-1] #Accessing the last character (r) in the myString variable."
   ]
  },
  {
   "cell_type": "code",
   "execution_count": 15,
   "id": "b7316bfe",
   "metadata": {},
   "outputs": [
    {
     "data": {
      "text/plain": [
       "'o'"
      ]
     },
     "execution_count": 15,
     "metadata": {},
     "output_type": "execute_result"
    }
   ],
   "source": [
    "myString[-4] #Accessing the fourth from last character (o) in the myString variable"
   ]
  },
  {
   "cell_type": "markdown",
   "id": "3d18c789",
   "metadata": {},
   "source": [
    "## Using Escape Sequences with Strings"
   ]
  },
  {
   "cell_type": "markdown",
   "id": "db59ea0d",
   "metadata": {},
   "source": [
    "### Understanding Escape Sequences\n",
    "\n",
    "\n",
    "The following is a discussion about escape sequences from the website toolsqa.com ( https://www.toolsqa.com/python/escape-sequences-in-python/)\n",
    "   \n",
    "   > Programmers refer to the backslash (\\) character as an escape character. In other words, it has a special meaning when we use it inside the strings.   <br> <br>\n",
    "   As the name suggests, the escape character escapes the characters in a string for a brief moment to introduce unique inclusion. <br> <br>\n",
    "   That is to say; backlash signifies that the next character after it has a different meaning. It could be printing double quotes or indicating a new line. <br><br>\n",
    "   The sequence of characters after a backslash is known as an escape sequence.<br> <br>\n",
    "   \n",
    "### Newline and Tab Escape Sequences   \n",
    "\n",
    "The two escape sequences discussed in this section of the course are:   \n",
    "- newline (\\n)\n",
    "- tab (\\t)\n"
   ]
  },
  {
   "cell_type": "markdown",
   "id": "508a5b69",
   "metadata": {},
   "source": [
    "#### Newline (\\n) Escape Sequence   \n",
    "Here's an example of using the newline escape sequence (\\n):"
   ]
  },
  {
   "cell_type": "code",
   "execution_count": 16,
   "id": "78c42ee9",
   "metadata": {},
   "outputs": [
    {
     "name": "stdout",
     "output_type": "stream",
     "text": [
      "hello world\n"
     ]
    }
   ],
   "source": [
    "print(\"hello world\") #printing the string \"hello world\" prints on one line by default"
   ]
  },
  {
   "cell_type": "code",
   "execution_count": 17,
   "id": "2cff41c9",
   "metadata": {},
   "outputs": [
    {
     "name": "stdout",
     "output_type": "stream",
     "text": [
      "hello \n",
      "world\n"
     ]
    }
   ],
   "source": [
    "print(\"hello \\nworld\") #If we use the escape sequence \\n as shown, \"world\" prints on a new line."
   ]
  },
  {
   "cell_type": "markdown",
   "id": "c17d8b66",
   "metadata": {},
   "source": [
    "#### Tab (\\t) Escape Sequence   \n",
    "Here's an example of using the tab escape sequence (\\t):"
   ]
  },
  {
   "cell_type": "code",
   "execution_count": 19,
   "id": "b8928ccf",
   "metadata": {},
   "outputs": [
    {
     "name": "stdout",
     "output_type": "stream",
     "text": [
      "hello \tworld\n"
     ]
    }
   ],
   "source": [
    "print(\"hello \\tworld\") #If we use the \\t escape sequence as shown, a tab/space is inserted between the two words."
   ]
  },
  {
   "cell_type": "code",
   "execution_count": null,
   "id": "baf29abf",
   "metadata": {},
   "outputs": [],
   "source": []
  }
 ],
 "metadata": {
  "kernelspec": {
   "display_name": "Python 3 (ipykernel)",
   "language": "python",
   "name": "python3"
  },
  "language_info": {
   "codemirror_mode": {
    "name": "ipython",
    "version": 3
   },
   "file_extension": ".py",
   "mimetype": "text/x-python",
   "name": "python",
   "nbconvert_exporter": "python",
   "pygments_lexer": "ipython3",
   "version": "3.9.7"
  }
 },
 "nbformat": 4,
 "nbformat_minor": 5
}
