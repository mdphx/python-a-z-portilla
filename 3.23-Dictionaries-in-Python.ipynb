{
 "cells": [
  {
   "cell_type": "markdown",
   "id": "ebfeb25e",
   "metadata": {},
   "source": [
    "# 3.23: Dictionaries in Python   \n",
    "\n",
    "This document provides an overview of dictionaries in Python, and discusses how to:\n",
    "- Construct dictionaries.\n",
    "- Access dictionary keys and values.\n",
    "- Construct dictionaries with multiple data types.\n",
    "- Convert dictionaries to lists.\n",
    "- Stack Calls on dictionary objects.\n",
    "- Add key-value pairs.\n",
    "- Replace/overide key values. \n",
    "- Display the key-values in dictionaries.\n",
    "\n",
    "## Understading Dictionaries in Pythong\n",
    "Dictionaries: \n",
    "- Are unordered mappings for storing objects.    \n",
    "- Use key:value pairs to store objects. Key:value pairs allow users to access and manipulate objects without needing to know an index location.    \n",
    "- Can hold different data types, including strings, integers, floats, lists, and other dictionaries.   \n",
    "\n",
    "### Differences between Dictionaries and Lists   \n",
    "\n",
    "__Dictionaries:__ Objects retrieved by key name. Unordered and cannot be sorted.   \n",
    "__Lists:__ Objects retrieved by location. Ordered sequence that can be indexed and sliced.   "
   ]
  },
  {
   "cell_type": "markdown",
   "id": "158a5010",
   "metadata": {},
   "source": [
    "## Constructing Dictionaries   \n",
    "Use curly brances and colons to signify the keys and their associated values. For example: <p style=\"font-family:monospace\">{key1:value1, key2:value2}.</p>   "
   ]
  },
  {
   "cell_type": "markdown",
   "id": "02290c36",
   "metadata": {},
   "source": [
    "### Example 1"
   ]
  },
  {
   "cell_type": "code",
   "execution_count": 1,
   "id": "80bb2ae2",
   "metadata": {},
   "outputs": [
    {
     "data": {
      "text/plain": [
       "{'key1': 'value1', 'key2': 'value2'}"
      ]
     },
     "execution_count": 1,
     "metadata": {},
     "output_type": "execute_result"
    }
   ],
   "source": [
    "myDictionary = {\"key1\":\"value1\", \"key2\":\"value2\"}\n",
    "myDictionary"
   ]
  },
  {
   "cell_type": "markdown",
   "id": "0a5307e0",
   "metadata": {},
   "source": [
    "## Accessing Dictionary Values"
   ]
  },
  {
   "cell_type": "markdown",
   "id": "a9054940",
   "metadata": {},
   "source": [
    "### Example 1"
   ]
  },
  {
   "cell_type": "code",
   "execution_count": 2,
   "id": "aa1cc1ea",
   "metadata": {},
   "outputs": [
    {
     "data": {
      "text/plain": [
       "'value1'"
      ]
     },
     "execution_count": 2,
     "metadata": {},
     "output_type": "execute_result"
    }
   ],
   "source": [
    "myDictionary[\"key1\"]"
   ]
  },
  {
   "cell_type": "markdown",
   "id": "8aac700f",
   "metadata": {},
   "source": [
    "### Example 2"
   ]
  },
  {
   "cell_type": "code",
   "execution_count": 3,
   "id": "28b1137f",
   "metadata": {},
   "outputs": [
    {
     "data": {
      "text/plain": [
       "{'apples': 2.99, 'oranges': 1.99, 'milk': 5.8}"
      ]
     },
     "execution_count": 3,
     "metadata": {},
     "output_type": "execute_result"
    }
   ],
   "source": [
    "priceLookup = {\"apples\":2.99, \"oranges\":1.99, \"milk\":5.80}\n",
    "priceLookup"
   ]
  },
  {
   "cell_type": "code",
   "execution_count": 4,
   "id": "98f25ac6",
   "metadata": {},
   "outputs": [
    {
     "data": {
      "text/plain": [
       "1.99"
      ]
     },
     "execution_count": 4,
     "metadata": {},
     "output_type": "execute_result"
    }
   ],
   "source": [
    "priceLookup[\"oranges\"]"
   ]
  },
  {
   "cell_type": "markdown",
   "id": "fe9aecd4",
   "metadata": {},
   "source": [
    "## Constructing Dictionaries with Multiple Data Types"
   ]
  },
  {
   "cell_type": "code",
   "execution_count": 14,
   "id": "5cfd6109",
   "metadata": {},
   "outputs": [],
   "source": [
    "anotherDictionary = {\"k1\":123,\"k2\":[0,1,2], \"k3\": {\"Florida\":79, \"Wisconsin\": -30}}"
   ]
  },
  {
   "cell_type": "markdown",
   "id": "50d25d00",
   "metadata": {},
   "source": [
    "### Accessing List Values"
   ]
  },
  {
   "cell_type": "code",
   "execution_count": 9,
   "id": "e399eeba",
   "metadata": {},
   "outputs": [
    {
     "data": {
      "text/plain": [
       "[0, 1, 2]"
      ]
     },
     "execution_count": 9,
     "metadata": {},
     "output_type": "execute_result"
    }
   ],
   "source": [
    "anotherDictionary[\"k2\"] #Accessing a list value by key"
   ]
  },
  {
   "cell_type": "markdown",
   "id": "dd7211b3",
   "metadata": {},
   "source": [
    "### Accessing Nested List Values"
   ]
  },
  {
   "cell_type": "code",
   "execution_count": 10,
   "id": "12c5a795",
   "metadata": {},
   "outputs": [
    {
     "data": {
      "text/plain": [
       "1"
      ]
     },
     "execution_count": 10,
     "metadata": {},
     "output_type": "execute_result"
    }
   ],
   "source": [
    "anotherDictionary[\"k2\"][1] #Returns the value at the first index in the k2 key."
   ]
  },
  {
   "cell_type": "code",
   "execution_count": 16,
   "id": "162e4cb2",
   "metadata": {},
   "outputs": [
    {
     "data": {
      "text/plain": [
       "-30"
      ]
     },
     "execution_count": 16,
     "metadata": {},
     "output_type": "execute_result"
    }
   ],
   "source": [
    "anotherDictionary[\"k3\"][\"Wisconsin\"] #Returns the value for the Wisconsin key in the k2 key."
   ]
  },
  {
   "cell_type": "markdown",
   "id": "b4097737",
   "metadata": {},
   "source": [
    "## Converting Dictionaries to Lists"
   ]
  },
  {
   "cell_type": "markdown",
   "id": "c50f524b",
   "metadata": {},
   "source": [
    "### Convert a Dictionary to a List"
   ]
  },
  {
   "cell_type": "code",
   "execution_count": null,
   "id": "5becd85c",
   "metadata": {},
   "outputs": [],
   "source": [
    "d = {\"key1\":[\"a\", \"b\", \"c\"]}"
   ]
  },
  {
   "cell_type": "code",
   "execution_count": 18,
   "id": "29664204",
   "metadata": {},
   "outputs": [
    {
     "data": {
      "text/plain": [
       "{'key1': ['a', 'b', 'c']}"
      ]
     },
     "execution_count": 18,
     "metadata": {},
     "output_type": "execute_result"
    }
   ],
   "source": [
    "d"
   ]
  },
  {
   "cell_type": "code",
   "execution_count": 19,
   "id": "de5e7817",
   "metadata": {},
   "outputs": [],
   "source": [
    "myList=d[\"key1\"]"
   ]
  },
  {
   "cell_type": "code",
   "execution_count": 20,
   "id": "197fefb5",
   "metadata": {},
   "outputs": [
    {
     "data": {
      "text/plain": [
       "['a', 'b', 'c']"
      ]
     },
     "execution_count": 20,
     "metadata": {},
     "output_type": "execute_result"
    }
   ],
   "source": [
    "myList"
   ]
  },
  {
   "cell_type": "markdown",
   "id": "1ac455bb",
   "metadata": {},
   "source": [
    "###  Convert a List Item to Upper Case"
   ]
  },
  {
   "cell_type": "code",
   "execution_count": 21,
   "id": "7b68d97a",
   "metadata": {},
   "outputs": [],
   "source": [
    "letter = myList[2]"
   ]
  },
  {
   "cell_type": "code",
   "execution_count": 22,
   "id": "4d9777cc",
   "metadata": {},
   "outputs": [
    {
     "data": {
      "text/plain": [
       "'c'"
      ]
     },
     "execution_count": 22,
     "metadata": {},
     "output_type": "execute_result"
    }
   ],
   "source": [
    "letter"
   ]
  },
  {
   "cell_type": "code",
   "execution_count": 23,
   "id": "62eb879c",
   "metadata": {},
   "outputs": [
    {
     "data": {
      "text/plain": [
       "'C'"
      ]
     },
     "execution_count": 23,
     "metadata": {},
     "output_type": "execute_result"
    }
   ],
   "source": [
    "letter.upper()"
   ]
  },
  {
   "cell_type": "markdown",
   "id": "53810389",
   "metadata": {},
   "source": [
    "## Stacking Calls on Dictionary Objects   \n",
    "The following example shows how to stack the calls in the previous section to convert a dictionary to a list, access an item in the list, and invoke a method on the list item in a single line of code."
   ]
  },
  {
   "cell_type": "code",
   "execution_count": 25,
   "id": "5a8d20b9",
   "metadata": {},
   "outputs": [
    {
     "data": {
      "text/plain": [
       "'C'"
      ]
     },
     "execution_count": 25,
     "metadata": {},
     "output_type": "execute_result"
    }
   ],
   "source": [
    "d[\"key1\"][2].upper()"
   ]
  },
  {
   "cell_type": "markdown",
   "id": "8b97b480",
   "metadata": {},
   "source": [
    "## Adding Key-Value Pairs to Dictionaries"
   ]
  },
  {
   "cell_type": "code",
   "execution_count": 26,
   "id": "42497cb5",
   "metadata": {},
   "outputs": [],
   "source": [
    "myDictionaryx = {\"k1\":100, \"k2\":200} #Existing dictionary"
   ]
  },
  {
   "cell_type": "code",
   "execution_count": 29,
   "id": "28303134",
   "metadata": {},
   "outputs": [],
   "source": [
    "myDictionaryx[\"k3\"] = 300 # Assign a new key (\"k3\") and assign the value 300 to the new key."
   ]
  },
  {
   "cell_type": "code",
   "execution_count": 28,
   "id": "e3158115",
   "metadata": {},
   "outputs": [
    {
     "data": {
      "text/plain": [
       "{'k1': 100, 'k2': 200, 'k3': 300}"
      ]
     },
     "execution_count": 28,
     "metadata": {},
     "output_type": "execute_result"
    }
   ],
   "source": [
    "myDictionaryx"
   ]
  },
  {
   "cell_type": "markdown",
   "id": "546ec84e",
   "metadata": {},
   "source": [
    "## Replacing/Overriding Key Values"
   ]
  },
  {
   "cell_type": "code",
   "execution_count": 30,
   "id": "2cb4250d",
   "metadata": {},
   "outputs": [
    {
     "data": {
      "text/plain": [
       "{'k1': 100, 'k2': 200, 'k3': 300}"
      ]
     },
     "execution_count": 30,
     "metadata": {},
     "output_type": "execute_result"
    }
   ],
   "source": [
    "myDictionaryx # Start with an existing dictionary"
   ]
  },
  {
   "cell_type": "code",
   "execution_count": 33,
   "id": "b55caea4",
   "metadata": {},
   "outputs": [],
   "source": [
    "myDictionaryx[\"k1\"]=\"NEW VALUE\" # Put the key in brackets and set it equal to the new value."
   ]
  },
  {
   "cell_type": "code",
   "execution_count": 34,
   "id": "9308025d",
   "metadata": {},
   "outputs": [
    {
     "data": {
      "text/plain": [
       "{'k1': 'NEW VALUE', 'k2': 200, 'k3': 300}"
      ]
     },
     "execution_count": 34,
     "metadata": {},
     "output_type": "execute_result"
    }
   ],
   "source": [
    "myDictionaryx"
   ]
  },
  {
   "cell_type": "markdown",
   "id": "df71a4e8",
   "metadata": {},
   "source": [
    "## Displaying the Key-Values in Dictionaries"
   ]
  },
  {
   "cell_type": "markdown",
   "id": "8c347184",
   "metadata": {},
   "source": [
    "### Display the Keys Only"
   ]
  },
  {
   "cell_type": "code",
   "execution_count": 35,
   "id": "869aff89",
   "metadata": {},
   "outputs": [],
   "source": [
    "myDictionaryx = {'k1': 100, 'k2': 200, 'k3': 300} #Reverting back to original dictionary values"
   ]
  },
  {
   "cell_type": "code",
   "execution_count": 36,
   "id": "32441533",
   "metadata": {},
   "outputs": [
    {
     "data": {
      "text/plain": [
       "{'k1': 100, 'k2': 200, 'k3': 300}"
      ]
     },
     "execution_count": 36,
     "metadata": {},
     "output_type": "execute_result"
    }
   ],
   "source": [
    "myDictionaryx"
   ]
  },
  {
   "cell_type": "code",
   "execution_count": 37,
   "id": "8e5ea1ac",
   "metadata": {},
   "outputs": [
    {
     "data": {
      "text/plain": [
       "dict_keys(['k1', 'k2', 'k3'])"
      ]
     },
     "execution_count": 37,
     "metadata": {},
     "output_type": "execute_result"
    }
   ],
   "source": [
    "myDictionaryx.keys() # Use the keys() method to display all the keys in a dictionary"
   ]
  },
  {
   "cell_type": "markdown",
   "id": "6b566b55",
   "metadata": {},
   "source": [
    "### Display the Values Only"
   ]
  },
  {
   "cell_type": "code",
   "execution_count": 38,
   "id": "82150a64",
   "metadata": {},
   "outputs": [
    {
     "data": {
      "text/plain": [
       "dict_values([100, 200, 300])"
      ]
     },
     "execution_count": 38,
     "metadata": {},
     "output_type": "execute_result"
    }
   ],
   "source": [
    "myDictionaryx.values() # Use the values() method to display all the values in a dictionary"
   ]
  },
  {
   "cell_type": "markdown",
   "id": "6e17a52b",
   "metadata": {},
   "source": [
    "### Display All Key-Value Pairs"
   ]
  },
  {
   "cell_type": "code",
   "execution_count": 39,
   "id": "ddc18fa0",
   "metadata": {},
   "outputs": [
    {
     "data": {
      "text/plain": [
       "dict_items([('k1', 100), ('k2', 200), ('k3', 300)])"
      ]
     },
     "execution_count": 39,
     "metadata": {},
     "output_type": "execute_result"
    }
   ],
   "source": [
    "myDictionaryx.items() #Use the items() method to display all the key-value pairs in a dictionary."
   ]
  },
  {
   "cell_type": "code",
   "execution_count": null,
   "id": "6f407923",
   "metadata": {},
   "outputs": [],
   "source": []
  }
 ],
 "metadata": {
  "kernelspec": {
   "display_name": "Python 3 (ipykernel)",
   "language": "python",
   "name": "python3"
  },
  "language_info": {
   "codemirror_mode": {
    "name": "ipython",
    "version": 3
   },
   "file_extension": ".py",
   "mimetype": "text/x-python",
   "name": "python",
   "nbconvert_exporter": "python",
   "pygments_lexer": "ipython3",
   "version": "3.9.7"
  }
 },
 "nbformat": 4,
 "nbformat_minor": 5
}
