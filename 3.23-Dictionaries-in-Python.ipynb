{
 "cells": [
  {
   "cell_type": "markdown",
   "id": "551ebcd8",
   "metadata": {},
   "source": [
    "# 3.23: Dictionaries in Python   \n",
    "\n",
    "This document provides an overview of dictionaries in Python, and discusses how to:\n",
    "- Construct dictionaries.\n",
    "- Access dictionary keys and values.\n",
    "- Construct dictionaries with multiple data types.\n",
    "- Convert dictionaries to lists.\n",
    "- Stack Calls on dictionary objects.\n",
    "- Add key-value pairs.\n",
    "- Replace/overide key values. \n",
    "- Display the key-values in dictionaries.\n",
    "\n",
    "## Understading Dictionaries in Pythong\n",
    "Dictionaries: \n",
    "- Are unordered mappings for storing objects.    \n",
    "- Use key:value pairs to store objects. Key:value pairs allow users to access and manipulate objects without needing to know an index location.    \n",
    "- Can hold different data types, including strings, integers, floats, lists, and other dictionaries.   \n",
    "\n",
    "### Differences between Dictionaries and Lists   \n",
    "\n",
    "__Dictionaries:__ Objects retrieved by key name. Unordered and cannot be sorted.   \n",
    "__Lists:__ Objects retrieved by location. Ordered sequence that can be indexed and sliced.   "
   ]
  },
  {
   "cell_type": "markdown",
   "id": "dc231794",
   "metadata": {},
   "source": [
    "## Constructing Dictionaries   \n",
    "Use curly brances and colons to signify the keys and their associated values. For example: <p style=\"font-family:monospace\">{key1:value1, key2:value2}.</p>   "
   ]
  },
  {
   "cell_type": "markdown",
   "id": "3435fa39",
   "metadata": {},
   "source": [
    "### Example 1"
   ]
  },
  {
   "cell_type": "code",
   "execution_count": 1,
   "id": "8f0f7bc4",
   "metadata": {},
   "outputs": [
    {
     "data": {
      "text/plain": [
       "{'key1': 'value1', 'key2': 'value2'}"
      ]
     },
     "execution_count": 1,
     "metadata": {},
     "output_type": "execute_result"
    }
   ],
   "source": [
    "myDictionary = {\"key1\":\"value1\", \"key2\":\"value2\"}\n",
    "myDictionary"
   ]
  },
  {
   "cell_type": "markdown",
   "id": "f4eb52ea",
   "metadata": {},
   "source": [
    "## Accessing Dictionary Values"
   ]
  },
  {
   "cell_type": "markdown",
   "id": "2fdd14e2",
   "metadata": {},
   "source": [
    "### Example 1"
   ]
  },
  {
   "cell_type": "code",
   "execution_count": 2,
   "id": "6ad10c98",
   "metadata": {},
   "outputs": [
    {
     "data": {
      "text/plain": [
       "'value1'"
      ]
     },
     "execution_count": 2,
     "metadata": {},
     "output_type": "execute_result"
    }
   ],
   "source": [
    "myDictionary[\"key1\"]"
   ]
  },
  {
   "cell_type": "markdown",
   "id": "5a10a1b1",
   "metadata": {},
   "source": [
    "### Example 2"
   ]
  },
  {
   "cell_type": "code",
   "execution_count": 3,
   "id": "77cc5d92",
   "metadata": {},
   "outputs": [
    {
     "data": {
      "text/plain": [
       "{'apples': 2.99, 'oranges': 1.99, 'milk': 5.8}"
      ]
     },
     "execution_count": 3,
     "metadata": {},
     "output_type": "execute_result"
    }
   ],
   "source": [
    "priceLookup = {\"apples\":2.99, \"oranges\":1.99, \"milk\":5.80}\n",
    "priceLookup"
   ]
  },
  {
   "cell_type": "code",
   "execution_count": 4,
   "id": "1a779dab",
   "metadata": {},
   "outputs": [
    {
     "data": {
      "text/plain": [
       "1.99"
      ]
     },
     "execution_count": 4,
     "metadata": {},
     "output_type": "execute_result"
    }
   ],
   "source": [
    "priceLookup[\"oranges\"]"
   ]
  },
  {
   "cell_type": "markdown",
   "id": "33633728",
   "metadata": {},
   "source": [
    "## Constructing Dictionaries with Multiple Data Types"
   ]
  },
  {
   "cell_type": "code",
   "execution_count": 14,
   "id": "0a9cf0a0",
   "metadata": {},
   "outputs": [],
   "source": [
    "anotherDictionary = {\"k1\":123,\"k2\":[0,1,2], \"k3\": {\"Florida\":79, \"Wisconsin\": -30}}"
   ]
  },
  {
   "cell_type": "markdown",
   "id": "432919b1",
   "metadata": {},
   "source": [
    "### Accessing List Values"
   ]
  },
  {
   "cell_type": "code",
   "execution_count": 9,
   "id": "e09e256d",
   "metadata": {},
   "outputs": [
    {
     "data": {
      "text/plain": [
       "[0, 1, 2]"
      ]
     },
     "execution_count": 9,
     "metadata": {},
     "output_type": "execute_result"
    }
   ],
   "source": [
    "anotherDictionary[\"k2\"] #Accessing a list value by key"
   ]
  },
  {
   "cell_type": "markdown",
   "id": "2170777c",
   "metadata": {},
   "source": [
    "### Accessing Nested List Values"
   ]
  },
  {
   "cell_type": "code",
   "execution_count": 10,
   "id": "bd99c65c",
   "metadata": {},
   "outputs": [
    {
     "data": {
      "text/plain": [
       "1"
      ]
     },
     "execution_count": 10,
     "metadata": {},
     "output_type": "execute_result"
    }
   ],
   "source": [
    "anotherDictionary[\"k2\"][1] #Returns the value at the first index in the k2 key."
   ]
  },
  {
   "cell_type": "code",
   "execution_count": 16,
   "id": "8c3dced2",
   "metadata": {},
   "outputs": [
    {
     "data": {
      "text/plain": [
       "-30"
      ]
     },
     "execution_count": 16,
     "metadata": {},
     "output_type": "execute_result"
    }
   ],
   "source": [
    "anotherDictionary[\"k3\"][\"Wisconsin\"] #Returns the value for the Wisconsin key in the k2 key."
   ]
  },
  {
   "cell_type": "markdown",
   "id": "9a51ffdf",
   "metadata": {},
   "source": [
    "## Converting Dictionaries to Lists"
   ]
  },
  {
   "cell_type": "markdown",
   "id": "8aa615e6",
   "metadata": {},
   "source": [
    "### Convert a Dictionary to a List"
   ]
  },
  {
   "cell_type": "code",
   "execution_count": null,
   "id": "aacf16ee",
   "metadata": {},
   "outputs": [],
   "source": [
    "d = {\"key1\":[\"a\", \"b\", \"c\"]}"
   ]
  },
  {
   "cell_type": "code",
   "execution_count": 18,
   "id": "eccaaecb",
   "metadata": {},
   "outputs": [
    {
     "data": {
      "text/plain": [
       "{'key1': ['a', 'b', 'c']}"
      ]
     },
     "execution_count": 18,
     "metadata": {},
     "output_type": "execute_result"
    }
   ],
   "source": [
    "d"
   ]
  },
  {
   "cell_type": "code",
   "execution_count": 40,
   "id": "c8884765",
   "metadata": {},
   "outputs": [],
   "source": [
    "myList=d[\"key1\"] #Return the values for a key using indexing"
   ]
  },
  {
   "cell_type": "code",
   "execution_count": 20,
   "id": "5b95f311",
   "metadata": {},
   "outputs": [
    {
     "data": {
      "text/plain": [
       "['a', 'b', 'c']"
      ]
     },
     "execution_count": 20,
     "metadata": {},
     "output_type": "execute_result"
    }
   ],
   "source": [
    "myList"
   ]
  },
  {
   "cell_type": "markdown",
   "id": "f09e48b2",
   "metadata": {},
   "source": [
    "###  Convert a List Item to Upper Case"
   ]
  },
  {
   "cell_type": "code",
   "execution_count": 21,
   "id": "10116fe7",
   "metadata": {},
   "outputs": [],
   "source": [
    "letter = myList[2]"
   ]
  },
  {
   "cell_type": "code",
   "execution_count": 22,
   "id": "e4a3657e",
   "metadata": {},
   "outputs": [
    {
     "data": {
      "text/plain": [
       "'c'"
      ]
     },
     "execution_count": 22,
     "metadata": {},
     "output_type": "execute_result"
    }
   ],
   "source": [
    "letter"
   ]
  },
  {
   "cell_type": "code",
   "execution_count": 23,
   "id": "7c05a59e",
   "metadata": {},
   "outputs": [
    {
     "data": {
      "text/plain": [
       "'C'"
      ]
     },
     "execution_count": 23,
     "metadata": {},
     "output_type": "execute_result"
    }
   ],
   "source": [
    "letter.upper()"
   ]
  },
  {
   "cell_type": "markdown",
   "id": "069f5a71",
   "metadata": {},
   "source": [
    "## Stacking Calls on Dictionary Objects   \n",
    "The following example shows how to stack the calls in the previous section to convert a dictionary to a list, access an item in the list, and invoke a method on the list item in a single line of code."
   ]
  },
  {
   "cell_type": "code",
   "execution_count": 25,
   "id": "c4572eeb",
   "metadata": {},
   "outputs": [
    {
     "data": {
      "text/plain": [
       "'C'"
      ]
     },
     "execution_count": 25,
     "metadata": {},
     "output_type": "execute_result"
    }
   ],
   "source": [
    "d[\"key1\"][2].upper()"
   ]
  },
  {
   "cell_type": "markdown",
   "id": "cfb1f7a1",
   "metadata": {},
   "source": [
    "## Adding Key-Value Pairs to Dictionaries"
   ]
  },
  {
   "cell_type": "code",
   "execution_count": 26,
   "id": "d3f2b9fc",
   "metadata": {},
   "outputs": [],
   "source": [
    "myDictionaryx = {\"k1\":100, \"k2\":200} #Existing dictionary"
   ]
  },
  {
   "cell_type": "code",
   "execution_count": 29,
   "id": "dd3e2738",
   "metadata": {},
   "outputs": [],
   "source": [
    "myDictionaryx[\"k3\"] = 300 # Assign a new key (\"k3\") and assign the value 300 to the new key."
   ]
  },
  {
   "cell_type": "code",
   "execution_count": 28,
   "id": "33308394",
   "metadata": {},
   "outputs": [
    {
     "data": {
      "text/plain": [
       "{'k1': 100, 'k2': 200, 'k3': 300}"
      ]
     },
     "execution_count": 28,
     "metadata": {},
     "output_type": "execute_result"
    }
   ],
   "source": [
    "myDictionaryx"
   ]
  },
  {
   "cell_type": "markdown",
   "id": "5089ffa4",
   "metadata": {},
   "source": [
    "## Replacing/Overriding Key Values"
   ]
  },
  {
   "cell_type": "code",
   "execution_count": 30,
   "id": "f7db5f1b",
   "metadata": {},
   "outputs": [
    {
     "data": {
      "text/plain": [
       "{'k1': 100, 'k2': 200, 'k3': 300}"
      ]
     },
     "execution_count": 30,
     "metadata": {},
     "output_type": "execute_result"
    }
   ],
   "source": [
    "myDictionaryx # Start with an existing dictionary"
   ]
  },
  {
   "cell_type": "code",
   "execution_count": 33,
   "id": "b5d9076a",
   "metadata": {},
   "outputs": [],
   "source": [
    "myDictionaryx[\"k1\"]=\"NEW VALUE\" # Put the key in brackets and set it equal to the new value."
   ]
  },
  {
   "cell_type": "code",
   "execution_count": 34,
   "id": "d04a006f",
   "metadata": {},
   "outputs": [
    {
     "data": {
      "text/plain": [
       "{'k1': 'NEW VALUE', 'k2': 200, 'k3': 300}"
      ]
     },
     "execution_count": 34,
     "metadata": {},
     "output_type": "execute_result"
    }
   ],
   "source": [
    "myDictionaryx"
   ]
  },
  {
   "cell_type": "markdown",
   "id": "93055320",
   "metadata": {},
   "source": [
    "## Displaying the Key-Values in Dictionaries"
   ]
  },
  {
   "cell_type": "markdown",
   "id": "879d559b",
   "metadata": {},
   "source": [
    "### Display the Keys Only"
   ]
  },
  {
   "cell_type": "code",
   "execution_count": 35,
   "id": "8be66052",
   "metadata": {},
   "outputs": [],
   "source": [
    "myDictionaryx = {'k1': 100, 'k2': 200, 'k3': 300} #Reverting back to original dictionary values"
   ]
  },
  {
   "cell_type": "code",
   "execution_count": 36,
   "id": "b8c65bb4",
   "metadata": {},
   "outputs": [
    {
     "data": {
      "text/plain": [
       "{'k1': 100, 'k2': 200, 'k3': 300}"
      ]
     },
     "execution_count": 36,
     "metadata": {},
     "output_type": "execute_result"
    }
   ],
   "source": [
    "myDictionaryx"
   ]
  },
  {
   "cell_type": "code",
   "execution_count": 37,
   "id": "7f811466",
   "metadata": {},
   "outputs": [
    {
     "data": {
      "text/plain": [
       "dict_keys(['k1', 'k2', 'k3'])"
      ]
     },
     "execution_count": 37,
     "metadata": {},
     "output_type": "execute_result"
    }
   ],
   "source": [
    "myDictionaryx.keys() # Use the keys() method to display all the keys in a dictionary"
   ]
  },
  {
   "cell_type": "markdown",
   "id": "29912801",
   "metadata": {},
   "source": [
    "### Display the Values Only"
   ]
  },
  {
   "cell_type": "code",
   "execution_count": 38,
   "id": "00bd0bce",
   "metadata": {},
   "outputs": [
    {
     "data": {
      "text/plain": [
       "dict_values([100, 200, 300])"
      ]
     },
     "execution_count": 38,
     "metadata": {},
     "output_type": "execute_result"
    }
   ],
   "source": [
    "myDictionaryx.values() # Use the values() method to display all the values in a dictionary"
   ]
  },
  {
   "cell_type": "markdown",
   "id": "a47bf74f",
   "metadata": {},
   "source": [
    "### Display All Key-Value Pairs"
   ]
  },
  {
   "cell_type": "code",
   "execution_count": 39,
   "id": "49c843f7",
   "metadata": {},
   "outputs": [
    {
     "data": {
      "text/plain": [
       "dict_items([('k1', 100), ('k2', 200), ('k3', 300)])"
      ]
     },
     "execution_count": 39,
     "metadata": {},
     "output_type": "execute_result"
    }
   ],
   "source": [
    "myDictionaryx.items() #Use the items() method to display all the key-value pairs in a dictionary."
   ]
  },
  {
   "cell_type": "code",
   "execution_count": null,
   "id": "f71377cf",
   "metadata": {},
   "outputs": [],
   "source": []
  }
 ],
 "metadata": {
  "kernelspec": {
   "display_name": "Python 3 (ipykernel)",
   "language": "python",
   "name": "python3"
  },
  "language_info": {
   "codemirror_mode": {
    "name": "ipython",
    "version": 3
   },
   "file_extension": ".py",
   "mimetype": "text/x-python",
   "name": "python",
   "nbconvert_exporter": "python",
   "pygments_lexer": "ipython3",
   "version": "3.9.7"
  }
 },
 "nbformat": 4,
 "nbformat_minor": 5
}
