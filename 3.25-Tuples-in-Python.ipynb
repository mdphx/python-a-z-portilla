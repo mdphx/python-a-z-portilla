{
 "cells": [
  {
   "cell_type": "markdown",
   "id": "4691c06d",
   "metadata": {},
   "source": [
    "# 3.25: Tuples in Python   \n",
    "Tuples are similar to lists, with one key difference: Tuples are immutable. Once an element is inside a tuple, it cannot be reassigned.   \n",
    "\n",
    "Tuples can contain multiple object types.   \n",
    "\n",
    "You can access items in tuples using the index of the item.  \n",
    "\n",
    "Tuples have two built-in methods: `index()` and `count().`\n",
    "\n",
    "Why use Tuples? When you want to make sure that objects don't get changed."
   ]
  },
  {
   "cell_type": "markdown",
   "id": "0cf3b8e3",
   "metadata": {},
   "source": [
    "## Tuple Declaration v List Declaration"
   ]
  },
  {
   "cell_type": "code",
   "execution_count": 3,
   "id": "48522524",
   "metadata": {},
   "outputs": [],
   "source": [
    "myTuple = (1, 2, 3)"
   ]
  },
  {
   "cell_type": "code",
   "execution_count": 4,
   "id": "40f13f41",
   "metadata": {},
   "outputs": [],
   "source": [
    "myList=[1, 2, 3]"
   ]
  },
  {
   "cell_type": "code",
   "execution_count": null,
   "id": "f34e3c54",
   "metadata": {},
   "outputs": [],
   "source": []
  }
 ],
 "metadata": {
  "kernelspec": {
   "display_name": "Python 3 (ipykernel)",
   "language": "python",
   "name": "python3"
  },
  "language_info": {
   "codemirror_mode": {
    "name": "ipython",
    "version": 3
   },
   "file_extension": ".py",
   "mimetype": "text/x-python",
   "name": "python",
   "nbconvert_exporter": "python",
   "pygments_lexer": "ipython3",
   "version": "3.9.7"
  }
 },
 "nbformat": 4,
 "nbformat_minor": 5
}
