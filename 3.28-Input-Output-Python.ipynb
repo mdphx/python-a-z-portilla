{
 "cells": [
  {
   "cell_type": "markdown",
   "id": "80edd6fe",
   "metadata": {},
   "source": [
    "# 3:28 I/O with Basic Files in Python"
   ]
  },
  {
   "cell_type": "code",
   "execution_count": 1,
   "id": "d1dcd191",
   "metadata": {},
   "outputs": [
    {
     "name": "stdout",
     "output_type": "stream",
     "text": [
      "Writing myFile.txt\n"
     ]
    }
   ],
   "source": [
    "%%writefile myFile.txt\n",
    "Hello this is a text file\n",
    "this is the second line\n",
    "this is the third line"
   ]
  },
  {
   "cell_type": "code",
   "execution_count": 2,
   "id": "8d6a55af",
   "metadata": {},
   "outputs": [],
   "source": [
    "myFile = open(\"myFile.txt\") #Verify file is in the same directory as your jupyter notebook"
   ]
  },
  {
   "cell_type": "code",
   "execution_count": null,
   "id": "59c8e599",
   "metadata": {},
   "outputs": [],
   "source": [
    "# pwd prints the location of your jupyter notebook"
   ]
  },
  {
   "cell_type": "code",
   "execution_count": 4,
   "id": "8b0296dc",
   "metadata": {},
   "outputs": [],
   "source": [
    "myFile = open(\"myFile.txt\")"
   ]
  },
  {
   "cell_type": "code",
   "execution_count": 5,
   "id": "73ddc0b6",
   "metadata": {},
   "outputs": [
    {
     "data": {
      "text/plain": [
       "'Hello this is a text file\\nthis is the second line\\nthis is the third line\\n'"
      ]
     },
     "execution_count": 5,
     "metadata": {},
     "output_type": "execute_result"
    }
   ],
   "source": [
    "myFile.read() #read the text file as one string. The \\n represents a new line."
   ]
  },
  {
   "cell_type": "code",
   "execution_count": 8,
   "id": "5682f144",
   "metadata": {},
   "outputs": [
    {
     "data": {
      "text/plain": [
       "0"
      ]
     },
     "execution_count": 8,
     "metadata": {},
     "output_type": "execute_result"
    }
   ],
   "source": [
    "myFile.seek(0) #Moves the cursor back to the beginning of the file so you can open it again."
   ]
  },
  {
   "cell_type": "code",
   "execution_count": 9,
   "id": "1421492e",
   "metadata": {},
   "outputs": [
    {
     "data": {
      "text/plain": [
       "['Hello this is a text file\\n',\n",
       " 'this is the second line\\n',\n",
       " 'this is the third line\\n']"
      ]
     },
     "execution_count": 9,
     "metadata": {},
     "output_type": "execute_result"
    }
   ],
   "source": [
    "myFile.readlines() #Prings the file with the line breaks. Each line is a separate object."
   ]
  },
  {
   "cell_type": "code",
   "execution_count": 10,
   "id": "5066b374",
   "metadata": {},
   "outputs": [
    {
     "data": {
      "text/plain": [
       "0"
      ]
     },
     "execution_count": 10,
     "metadata": {},
     "output_type": "execute_result"
    }
   ],
   "source": [
    "myFile.seek(0)"
   ]
  },
  {
   "cell_type": "code",
   "execution_count": 11,
   "id": "b7a96cb0",
   "metadata": {},
   "outputs": [
    {
     "data": {
      "text/plain": [
       "'He'"
      ]
     },
     "execution_count": 11,
     "metadata": {},
     "output_type": "execute_result"
    }
   ],
   "source": [
    "myFile.readline(2)"
   ]
  },
  {
   "cell_type": "code",
   "execution_count": 12,
   "id": "d2dd1915",
   "metadata": {},
   "outputs": [
    {
     "data": {
      "text/plain": [
       "0"
      ]
     },
     "execution_count": 12,
     "metadata": {},
     "output_type": "execute_result"
    }
   ],
   "source": [
    "myFile.seek(0)"
   ]
  },
  {
   "cell_type": "code",
   "execution_count": 13,
   "id": "22ce201e",
   "metadata": {},
   "outputs": [
    {
     "data": {
      "text/plain": [
       "['Hello this is a text file\\n']"
      ]
     },
     "execution_count": 13,
     "metadata": {},
     "output_type": "execute_result"
    }
   ],
   "source": [
    "myFile.readlines(1)"
   ]
  },
  {
   "cell_type": "code",
   "execution_count": 14,
   "id": "d8d09d62",
   "metadata": {},
   "outputs": [
    {
     "data": {
      "text/plain": [
       "0"
      ]
     },
     "execution_count": 14,
     "metadata": {},
     "output_type": "execute_result"
    }
   ],
   "source": [
    "myFile.seek(0)"
   ]
  },
  {
   "cell_type": "markdown",
   "id": "70ca7c52",
   "metadata": {},
   "source": [
    "## File Locations   \n",
    "\n",
    "To open files not in the same directory as the jupyter notebook, use these paths.\n",
    "\n",
    "__File Locations (Windows)__   \n",
    "<p style=\"font-family:monospace\">myFile = open(\"C:\\\\Users\\\\UserName\\\\Folder\\\\test.txt\")</p>    \n",
    "\n",
    "\n",
    "__File Locations (MacOS and Linux)__   \n",
    "<p style=\"font-family:monospace\">myFile = open(\"/Users/YourUserName/Folder/myFile.txt\")</p>"
   ]
  },
  {
   "cell_type": "markdown",
   "id": "74cdc6a3",
   "metadata": {},
   "source": [
    "## Closing Files    \n",
    "After you're done working with a file you must close it using the following syntax:"
   ]
  },
  {
   "cell_type": "code",
   "execution_count": 15,
   "id": "f05c40f2",
   "metadata": {},
   "outputs": [],
   "source": [
    "myFile.close()"
   ]
  },
  {
   "cell_type": "code",
   "execution_count": 17,
   "id": "e2e19a02",
   "metadata": {},
   "outputs": [],
   "source": [
    "with open(\"myFile.txt\") as myNewFile: #9:52\n",
    "    contents = myNewFile.read()"
   ]
  },
  {
   "cell_type": "code",
   "execution_count": null,
   "id": "02e6e612",
   "metadata": {},
   "outputs": [],
   "source": []
  }
 ],
 "metadata": {
  "kernelspec": {
   "display_name": "Python 3 (ipykernel)",
   "language": "python",
   "name": "python3"
  },
  "language_info": {
   "codemirror_mode": {
    "name": "ipython",
    "version": 3
   },
   "file_extension": ".py",
   "mimetype": "text/x-python",
   "name": "python",
   "nbconvert_exporter": "python",
   "pygments_lexer": "ipython3",
   "version": "3.9.7"
  }
 },
 "nbformat": 4,
 "nbformat_minor": 5
}
